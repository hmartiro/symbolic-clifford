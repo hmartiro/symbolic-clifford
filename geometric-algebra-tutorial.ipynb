{
 "cells": [
  {
   "cell_type": "markdown",
   "metadata": {},
   "source": [
    "# Geometric Algebra Intro"
   ]
  },
  {
   "cell_type": "markdown",
   "metadata": {},
   "source": [
    "## Motivation"
   ]
  },
  {
   "cell_type": "markdown",
   "metadata": {},
   "source": [
    "Problems: \n",
    "* rotations = confusing\n",
    "  * quaternions are 4D hyperspheres? wtf? where does the math come from?\n",
    "  * rotations in 2D, 3D, 4D have completely different implementations\n",
    "* handling of infinity in projective geometry = confusing  \n",
    "  * Lots of if statements, special cases\n",
    "* cross products = confusing  \n",
    "  * Right hand rule?\n",
    "* lie groups = confusing   \n",
    "\n",
    "What we get:\n",
    "* Naturally \"typed\" points, vectors, lines, planes\n",
    "* Intuitive projections, intersections, metrics, norms on all types\n",
    "* Exception/conditional free code\n",
    "* Rotations and translations use the same formulas, on all types\n",
    "* Formulas generalize to any number of dimensions\n",
    "* Derive complex numbers, quaternions, dual quaternions, lie algebras\n",
    "\n",
    "Used in more complex math. Quantum physics. Spacetime. Conformal geometry. Also much easier to explain to a child."
   ]
  },
  {
   "cell_type": "markdown",
   "metadata": {},
   "source": [
    " is coordinate-free,  \n",
    "• has a uniform representation for points, lines, and planes,  \n",
    "• can calculate “parallel-safe” meet and join of these geometric entities,  \n",
    "• provides compact expressions for all classical euclidean formulas and  \n",
    "constructions, including distances and angles, perpendiculars and parallels,  \n",
    "orthogonal projections, and other metric operations,  \n",
    "• has a single, geometrically intuitive form for euclidean motions, one  \n",
    "with a single representation for operators and operands,  \n",
    "• provides automatic differentiation of functions of one or several variables,  \n",
    "• provides a compact, efficient model for kinematics and rigid body mechanics,  \n",
    "• lends itself to efficient, practical implementation, and  "
   ]
  },
  {
   "cell_type": "markdown",
   "metadata": {},
   "source": [
    "## Basis Symbols"
   ]
  },
  {
   "cell_type": "markdown",
   "metadata": {},
   "source": [
    "We're going to start with Euclidean space where we define symbols $\\{e_1, ..., e_N\\}$ represent the bases of $\\mathbb{R}^N$. Representing a vector is just like the familiar decomposition into unit basis vectors:\n",
    "\n",
    "$v = e_1 + 2 e_2 + 3 e_3 \\Rightarrow$ analogous to the vector (1, 2, 3)\n",
    "\n",
    "However, we're going to think of the bases as scalar algebraic symbols, since treating them as unit vectors is a cyclic definition of vector when starting from first principles. Note that two elements of this algebra can be added together as expected:\n",
    "\n",
    "$(e_1 + 3e_2) + (2 e_1 - e_2)$\n",
    "$= 3 e_1 + 2 e_2$\n",
    "\n",
    "What's more interesting is that geometric algebra is built around multiplication of elements. This is in fact the basis of geometric algebra, and the operation is called the *geometric product* even though it's just standard multiplication:\n",
    "\n",
    "$(e_1 + 3e_2) * (2 e_1 - e_2)$  \n",
    "$= 2 e_1^2 - e_1 e_2 + 6 e_2 e_1 - 3 e_2^2$"
   ]
  },
  {
   "cell_type": "markdown",
   "metadata": {},
   "source": [
    "We don't yet know what this result means, but let's look at simpler products before interpreting it."
   ]
  },
  {
   "cell_type": "markdown",
   "metadata": {},
   "source": [
    "## Metric Space"
   ]
  },
  {
   "cell_type": "markdown",
   "metadata": {},
   "source": [
    "First, what should the square of a basis be? If we think of $e_1$ as a unit vector along the X axis, then it's pretty intuitive to consider $e_1^2 = 1$, as equivalent to the squared length. This allows us reason about metric distances like the length of a vector, which is useful in Euclidean space.\n",
    "\n",
    "More generally, geometric symbols square to one of the scalars $\\{1, 0, -1\\}$. There are theorems that relate the squared signature of the bases to the type of space it is useful for representing (projective, hyperbolic, elliptical, Minkowski). For Euclidean space in $\\mathbb{R}^N$, we use $N$ bases that square to 1. Let's define this as our first rule:\n",
    "\n",
    "1) $\\boxed{e_i^2 = 1}$"
   ]
  },
  {
   "cell_type": "markdown",
   "metadata": {},
   "source": [
    "If we then take the square of a non-unit vector, we see an interesting property:\n",
    "\n",
    "$(e_1 + 2 e_2)^2$  \n",
    "$= e_1^2 + 2 e_1 e_2 + 2 e_2 e_1 + 4 e_2^2$  \n",
    "$= 1 + 2 e_1 e_2 + 2 e_2 e_1 + 4$  \n",
    "$= 5 + 2 e_1 e_2 + 2 e_2 e_1$  \n"
   ]
  },
  {
   "cell_type": "markdown",
   "metadata": {},
   "source": [
    "If we say we want the geometric square to represent the squared norm of the vector ($1^2 + 2^2 = 5$), we see the only way this will happen is if $2 e_1 e_2$ and $2 e_2 e_1$ cancel out:\n",
    "\n",
    "$5 + 2 e_1 e_2 + 2 e_2 e_1 = 5$  \n",
    "$ e_2 e_1 = -e_1 e_2$"
   ]
  },
  {
   "cell_type": "markdown",
   "metadata": {},
   "source": [
    "Thus, the desire for multiplying a vector with itself to result in a scalar that represents its squared length necessarily produces our second rule, that the product of two different bases is anti-commutative:\n",
    "\n",
    "2) $\\boxed{e_i e_j = -e_j e_i}$"
   ]
  },
  {
   "cell_type": "markdown",
   "metadata": {},
   "source": [
    "There are many ways to derive these two rules, but they are the all we need to explore a ton of geometric algebra. Let's go back to our earlier product of two vectors:\n",
    "\n",
    "$(e_1 + 3e_2) * (2 e_1 - e_2)$  \n",
    "$= 2 e_1^2 - e_1 e_2 + 6 e_2 e_1 - 3 e_2^2$  \n",
    "\n",
    "We can now apply the two rules to simplify:\n",
    "\n",
    "$= 2 - e_1 e_2 + 6 e_2 e_1 - 3 \\Rightarrow$  (apply Rule 1, $e_i^2 = 1$)  \n",
    "$= 2 - e_1 e_2 + 6 (- e_1 e_2) - 3 \\Rightarrow$  (apply Rule 2, $e_i e_j = -e_j e_i$)  \n",
    "$= -1 - 7 e_1 e_2$"
   ]
  },
  {
   "cell_type": "markdown",
   "metadata": {},
   "source": [
    "## Inner and outer products"
   ]
  },
  {
   "cell_type": "markdown",
   "metadata": {},
   "source": [
    "The product of any one-dimensional vectors always produces a zero-dimensional quantity which is a contraction, plus a two-dimensional quantity which is an expansion. This is a simple result of the simplification rules, since the squared terms become scalars and the cross terms remain. The best way to think of this compound result is that in one expression it tells us two different things about the relationship between the vectors.\n",
    "\n",
    "We call the zero-dimensional quantity the *inner product* and the two-dimensional quantity the *outer product*. We can decompose these two parts by writing the inner as ($a \\cdot b$) and the outer as ($a \\wedge b$):\n",
    "\n",
    "$a * b = a b = a \\cdot b + a \\wedge b$\n",
    "\n",
    "**NOTE**: The formula above applies only to the product of two one-dimensional vectors. The inner product is just the name given to the lowest-dimensional result of the product of any two things, and the outer product is the highest-dimensional result. In general you can get other in-between terms, so they should really be thought of as parts of the geometric product rather than first-class operations themselves.\n",
    "\n",
    "So from our original product we can write:\n",
    "\n",
    "$(e_1 + 3e_2) \\cdot (2 e_1 - e_2) = -1 \\Rightarrow$ (inner product)  \n",
    "$(e_1 + 3 e_2) \\wedge (2 e_1 - e_2) = -7 e_1 e_2 \\Rightarrow$ (outer product)"
   ]
  },
  {
   "cell_type": "markdown",
   "metadata": {},
   "source": [
    "If you look at the product and how the squared terms contract, it's not hard to see that the inner product between two Euclidean vectors is identical to the dot product. However, the inner product applies to any two geometric quantities (planes, lines, points, transformations) and not just vectors. It also applies to non-Euclidean spaces."
   ]
  },
  {
   "cell_type": "markdown",
   "metadata": {},
   "source": [
    "What does $e_1 e_2$ actually represent? Intuitively, it represents a unit area in the XY plane. The outer product of two one-dimensional vectors, which can be thought of as *oriented lengths*, produces a two-dimensional *oriented area*. This reinforces why the outer product is anti-commutative - the area $e_1 e_2$ is oriented in the opposite direction of $e_2 e_1$."
   ]
  },
  {
   "cell_type": "markdown",
   "metadata": {},
   "source": [
    "<img style=\"float: left; width: 200px;\" src=\"https://www.researchgate.net/profile/A_Arsenovic/publication/318475103/figure/fig6/AS:547679924756491@1507588477780/Geometric-algebra-for-three-dimensional-space-illustrating-the-vector-and-bivector-basis.png\"/>"
   ]
  },
  {
   "cell_type": "markdown",
   "metadata": {},
   "source": [
    "From this you can see close similarities to the cross product - the magnitude is the signed area of the parallelogram spanned by the two vectors, and the direction is the normal of the $e_1 e_2$ plane. But again, the outer product applies in every dimension and between any two quantities. It has to, since it's literally just the highest-dimensional result of multiplying two elements of the algebra. We don't need to use or interpret the cross product in geometric algebra."
   ]
  },
  {
   "cell_type": "markdown",
   "metadata": {},
   "source": [
    "Extending it one step further, the outer product of three basis vectors produces an oriented volume:\n",
    "\n",
    "<img style=\"float: left; width: 250px;\" src=\"https://i.stack.imgur.com/UNRIn.png\"/>"
   ]
  },
  {
   "cell_type": "markdown",
   "metadata": {},
   "source": [
    "Note some basic properties that come out of the two rules:\n",
    "\n",
    "For bases $e_1, e_2$:  \n",
    "$e_1 \\cdot e_1 = 1$  \n",
    "$e_1 \\cdot e_2 = 0$  \n",
    "$e_1 \\wedge e_1 = 0$  \n",
    "$e_1 \\wedge e_2 = e_1 e_2 = -e_2 e_1 = -e_2 \\wedge e_1$  \n",
    "\n",
    "For vectors $a, b$:  \n",
    "$a b = a \\cdot b + a \\wedge b$  \n",
    "$a \\cdot b = (a b + b a) / 2 \\Rightarrow$  (inner product is symmetric)  \n",
    "$a \\wedge b = (a b - b a) / 2 \\Rightarrow$  (outer product is anti-symmetric)  \n"
   ]
  },
  {
   "cell_type": "markdown",
   "metadata": {},
   "source": [
    "## Multivectors"
   ]
  },
  {
   "cell_type": "markdown",
   "metadata": {},
   "source": [
    "The expression $-1 - 7 e_1 e_2$ is not a one-dimensional vector. A general element of this algebra is called a *multivector*, which is the sum of $k$-vectors from dimension zero to $N$. In general we define a *$k$-vector* as a sum of terms which all have $k$ basis elements. Here are some examples:\n",
    " * $42$ is a 0-vector  \n",
    " * $3 e_1 + 2 e_2$ is a 1-vector  \n",
    " * $3 e_1 e_2 + 5 e_1 e_3$ is a 2-vector.\n",
    " * $2 e_1 e_2 e_3$ is a 3-vector.  \n",
    " * $42 + 3 e_1$ is a multivector which is the sum of a 0-vector and a 1-vector.  \n",
    " * $e_2 - e_1 e_2$ is a multivector which is the sum of a 1-vector and a 2-vector.\n",
    "\n",
    "The typical names given to these quantities are:\n",
    " * 0-vector -> scalar\n",
    " * 1-vector -> vector (oriented length)\n",
    " * 2-vector -> bivector (oriented area)\n",
    " * 3-vector -> trivector (oriented volume)\n",
    "\n",
    "A bivector $e_1 e_2$ can also be written as $e_{12}$, trivector as $e_{123}$, etc. A $k$-vector is also called a *blade* of grade $k$."
   ]
  },
  {
   "cell_type": "markdown",
   "metadata": {},
   "source": [
    "## Code"
   ]
  },
  {
   "cell_type": "markdown",
   "metadata": {},
   "source": [
    "We can easily define this algebra with sympy."
   ]
  },
  {
   "cell_type": "code",
   "execution_count": 1,
   "metadata": {},
   "outputs": [],
   "source": [
    "import sympy as sm\n",
    "e1, e2, e3 = sm.symbols('e1 e2 e3', commutative=False)"
   ]
  },
  {
   "cell_type": "code",
   "execution_count": 2,
   "metadata": {},
   "outputs": [
    {
     "data": {
      "text/latex": [
       "$\\displaystyle \\left(e_{1} + 3 e_{2}\\right) \\left(2 e_{1} - e_{2}\\right)$"
      ],
      "text/plain": [
       "(e1 + 3*e2)*(2*e1 - e2)"
      ]
     },
     "execution_count": 2,
     "metadata": {},
     "output_type": "execute_result"
    }
   ],
   "source": [
    "v1 = e1 + 3 * e2\n",
    "v2 = 2 * e1 - e2\n",
    "v1 * v2"
   ]
  },
  {
   "cell_type": "code",
   "execution_count": 3,
   "metadata": {},
   "outputs": [
    {
     "data": {
      "text/latex": [
       "$\\displaystyle - e_{1} e_{2} + 2 e_{1}^{2} + 6 e_{2} e_{1} - 3 e_{2}^{2}$"
      ],
      "text/plain": [
       "-e1*e2 + 2*e1**2 + 6*e2*e1 - 3*e2**2"
      ]
     },
     "execution_count": 3,
     "metadata": {},
     "output_type": "execute_result"
    }
   ],
   "source": [
    "sm.expand(v1 * v2)"
   ]
  },
  {
   "cell_type": "markdown",
   "metadata": {},
   "source": [
    "Let's encode our two simplification rules."
   ]
  },
  {
   "cell_type": "code",
   "execution_count": 4,
   "metadata": {},
   "outputs": [],
   "source": [
    "def simp(a):\n",
    "    subs = {\n",
    "        # Rule 1) Squared bases contract to a scalar (1 for Euclidian space)\n",
    "        e1**2: 1,\n",
    "        e2**2: 1,\n",
    "        e3**2: 1,\n",
    "        # Rule 2) Product of two different are anti-commutative\n",
    "        e2*e1: -e1*e2,\n",
    "        e3*e1: -e1*e3,\n",
    "        e3*e2: -e2*e3\n",
    "    }\n",
    "    while True:\n",
    "        b = sm.expand(a).subs(subs)\n",
    "        if b == a:\n",
    "            return b\n",
    "        a = b"
   ]
  },
  {
   "cell_type": "markdown",
   "metadata": {},
   "source": [
    "See that this behaves as expected on some simple examples:"
   ]
  },
  {
   "cell_type": "code",
   "execution_count": 5,
   "metadata": {},
   "outputs": [
    {
     "data": {
      "text/latex": [
       "$\\displaystyle 1$"
      ],
      "text/plain": [
       "1"
      ]
     },
     "execution_count": 5,
     "metadata": {},
     "output_type": "execute_result"
    }
   ],
   "source": [
    "simp(e1 * e1)  # Contracts"
   ]
  },
  {
   "cell_type": "code",
   "execution_count": 6,
   "metadata": {},
   "outputs": [
    {
     "data": {
      "text/latex": [
       "$\\displaystyle e_{1} e_{2}$"
      ],
      "text/plain": [
       "e1*e2"
      ]
     },
     "execution_count": 6,
     "metadata": {},
     "output_type": "execute_result"
    }
   ],
   "source": [
    "simp(e1 * e2)  # Nothing happens"
   ]
  },
  {
   "cell_type": "code",
   "execution_count": 7,
   "metadata": {},
   "outputs": [
    {
     "data": {
      "text/latex": [
       "$\\displaystyle - e_{1} e_{2}$"
      ],
      "text/plain": [
       "-e1*e2"
      ]
     },
     "execution_count": 7,
     "metadata": {},
     "output_type": "execute_result"
    }
   ],
   "source": [
    "simp(e2 * e1)  # Anti-commutes to our chosen canonical order"
   ]
  },
  {
   "cell_type": "code",
   "execution_count": 8,
   "metadata": {},
   "outputs": [
    {
     "data": {
      "text/latex": [
       "$\\displaystyle - e_{1}$"
      ],
      "text/plain": [
       "-e1"
      ]
     },
     "execution_count": 8,
     "metadata": {},
     "output_type": "execute_result"
    }
   ],
   "source": [
    "simp(e2 * e1 * e2)  # Anti-commutes then contracts"
   ]
  },
  {
   "cell_type": "code",
   "execution_count": 9,
   "metadata": {},
   "outputs": [
    {
     "data": {
      "text/latex": [
       "$\\displaystyle -1 - 7 e_{1} e_{2}$"
      ],
      "text/plain": [
       "-1 - 7*e1*e2"
      ]
     },
     "execution_count": 9,
     "metadata": {},
     "output_type": "execute_result"
    }
   ],
   "source": [
    "simp(v1 * v2)  # Our vector multiplication from before"
   ]
  },
  {
   "cell_type": "code",
   "execution_count": 10,
   "metadata": {},
   "outputs": [],
   "source": [
    "# I've wrapped this up into a small geometric algebra class\n",
    "from geoalg import GeometricAlgebra\n",
    "R3 = GeometricAlgebra.generate(3, 0, 0)\n",
    "e1, e2, e3 = R3.blades[1]\n",
    "e12, e13, e23 = R3.blades[2]\n",
    "e123, = R3.blades[3]"
   ]
  },
  {
   "cell_type": "code",
   "execution_count": 11,
   "metadata": {},
   "outputs": [
    {
     "data": {
      "text/latex": [
       "$\\displaystyle -1 - 7 e_{1} e_{2}$"
      ],
      "text/plain": [
       "-1 - 7*e1*e2"
      ]
     },
     "execution_count": 11,
     "metadata": {},
     "output_type": "execute_result"
    }
   ],
   "source": [
    "R3.simp(v1 * v2)"
   ]
  },
  {
   "cell_type": "markdown",
   "metadata": {},
   "source": [
    "## Closure"
   ]
  },
  {
   "cell_type": "markdown",
   "metadata": {},
   "source": [
    "We can get available components of an algebra from the permutations of its bases.\n",
    "\n",
    "For $\\mathbb{R}^2$, note how we have the following components:\n",
    " * one 0-vector\n",
    " * two 1-vectors $\\{e_1, e_2\\}$\n",
    " * one 2-vector $\\{e_1 e_2\\}$\n",
    " \n",
    "For $\\mathbb{R}^3$, note how we have the following components:\n",
    " * one 0-vector\n",
    " * three 1-vectors $\\{e_1, e_2, e_3\\}$\n",
    " * three 2-vectors $\\{e_1 e_2, e_1 e_3, e_2 e_3\\}$\n",
    " * one 3-vector $\\{e_1 e_2 e_3\\}$\n",
    " \n",
    "This matches expectation that in $\\mathbb{R}^2$ we have two directions, one plane, and no volume. In $\\mathbb{R}^3$ we have three directions, three planes, and one volume. In $\\mathbb{R}^4$, it would be four directions, six planes, three volumes, and one quadvector."
   ]
  },
  {
   "cell_type": "markdown",
   "metadata": {},
   "source": [
    "Note how any more exotic combinations of bases simplify to one of the above given our rules."
   ]
  },
  {
   "cell_type": "code",
   "execution_count": 12,
   "metadata": {},
   "outputs": [
    {
     "data": {
      "text/latex": [
       "$\\displaystyle - e_{3}$"
      ],
      "text/plain": [
       "-e3"
      ]
     },
     "execution_count": 12,
     "metadata": {},
     "output_type": "execute_result"
    }
   ],
   "source": [
    "R3.simp(e1 * e2 * e1 * e2 * e3)"
   ]
  },
  {
   "cell_type": "code",
   "execution_count": 13,
   "metadata": {},
   "outputs": [
    {
     "data": {
      "text/latex": [
       "$\\displaystyle - e_{1} e_{2} e_{3}$"
      ],
      "text/plain": [
       "-e1*e2*e3"
      ]
     },
     "execution_count": 13,
     "metadata": {},
     "output_type": "execute_result"
    }
   ],
   "source": [
    "R3.simp(e3 * e3 * e2 * e1 * e3)"
   ]
  },
  {
   "cell_type": "code",
   "execution_count": 14,
   "metadata": {},
   "outputs": [
    {
     "data": {
      "text/latex": [
       "$\\displaystyle e_{1} e_{3}$"
      ],
      "text/plain": [
       "e1*e3"
      ]
     },
     "execution_count": 14,
     "metadata": {},
     "output_type": "execute_result"
    }
   ],
   "source": [
    "R3.simp(e3 * e3 * e2 * e1 * e3 * e2)"
   ]
  },
  {
   "cell_type": "markdown",
   "metadata": {},
   "source": [
    "This makes the algebra closed under multiplication. Geometric algebras are mathematically called noncommutative rings, due to matching the properties:\n",
    "\n",
    " * addition + multiplication defined\n",
    " * addition commutative\n",
    " * multiplication noncommutative\n",
    " * everything associative"
   ]
  },
  {
   "cell_type": "markdown",
   "metadata": {},
   "source": [
    "Every element of the geometric algebra in $\\mathbb{R}^2$ is a multivector of the form:\n",
    "\n",
    "$c_1 + c_2 e_1 + c_3 e_2 + c_4 e_3 + c_5 e_1 e_2 + c_6 e_1 e_3 + c_7 e_2 e_3 + c_8 e_1 e_2 e_3$\n",
    "\n",
    "In $\\mathbb{R}^2$ we have only two bases and one bivector:\n",
    "\n",
    "$c_1 + c_2 e_1 + c_3 e_2 + c_4 e_1 e_2$"
   ]
  },
  {
   "cell_type": "markdown",
   "metadata": {},
   "source": [
    "So for $\\mathbb{R}^3$:\n",
    "* 1-vectors are oriented lengths,  $a e_1 + b e_2 + c e_3$\n",
    "* 2-vectors are oriented areas, $d e_1 e_2 + f e_1 e_3 + g e_2 e_3$\n",
    "* 3-vectors are oriented volumes, $ h e_1 e_2 e_3$\n",
    "\n",
    "If we don't focus on magnitude\n",
    "* unit 1-vectors are directions\n",
    "* unit 2-vectors are planes through the origin\n",
    "* unit 3-vectors are volumes  (in $\\mathbb{R}^3$ there is only one volume)"
   ]
  },
  {
   "cell_type": "markdown",
   "metadata": {},
   "source": [
    "A multivector is a sum of these geometric quantities."
   ]
  },
  {
   "cell_type": "markdown",
   "metadata": {},
   "source": [
    "## Grade Operator"
   ]
  },
  {
   "cell_type": "markdown",
   "metadata": {},
   "source": [
    "The grade operator is written as $\\langle a \\rangle_i$ and simply pulls out the $k$-vector component of a multivector. For example:\n",
    "\n",
    "$a = (ac + bd) + (ad - bc) e_1 e_2$  \n",
    "$\\langle a \\rangle_0 = ac + bd$  \n",
    "$\\langle a \\rangle_1 = 0$  \n",
    "$\\langle a \\rangle_2 = (ad - bc) e_1 e_2$  \n",
    "$\\langle a \\rangle_3 = 0$  "
   ]
  },
  {
   "cell_type": "code",
   "execution_count": 15,
   "metadata": {},
   "outputs": [
    {
     "data": {
      "text/latex": [
       "$\\displaystyle a c + a d e_{1} e_{2} - b c e_{1} e_{2} + b d$"
      ],
      "text/plain": [
       "a*c + a*d*e1*e2 - b*c*e1*e2 + b*d"
      ]
     },
     "execution_count": 15,
     "metadata": {},
     "output_type": "execute_result"
    }
   ],
   "source": [
    "# In code\n",
    "a, b, c, d = sm.symbols('a b c d')\n",
    "expr = R3.simp((a * e1 + b * e2) * (c * e1 + d * e2))\n",
    "expr"
   ]
  },
  {
   "cell_type": "code",
   "execution_count": 16,
   "metadata": {},
   "outputs": [
    {
     "data": {
      "text/latex": [
       "$\\displaystyle a c + b d$"
      ],
      "text/plain": [
       "a*c + b*d"
      ]
     },
     "execution_count": 16,
     "metadata": {},
     "output_type": "execute_result"
    }
   ],
   "source": [
    "R3.grade(expr, 0)"
   ]
  },
  {
   "cell_type": "code",
   "execution_count": 17,
   "metadata": {},
   "outputs": [
    {
     "data": {
      "text/latex": [
       "$\\displaystyle 0$"
      ],
      "text/plain": [
       "0"
      ]
     },
     "execution_count": 17,
     "metadata": {},
     "output_type": "execute_result"
    }
   ],
   "source": [
    "R3.grade(expr, 1)"
   ]
  },
  {
   "cell_type": "code",
   "execution_count": 18,
   "metadata": {},
   "outputs": [
    {
     "data": {
      "text/latex": [
       "$\\displaystyle \\left(a d - b c\\right) e_{1} e_{2}$"
      ],
      "text/plain": [
       "(a*d - b*c)*e1*e2"
      ]
     },
     "execution_count": 18,
     "metadata": {},
     "output_type": "execute_result"
    }
   ],
   "source": [
    "R3.grade(expr, 2)"
   ]
  },
  {
   "cell_type": "code",
   "execution_count": 19,
   "metadata": {},
   "outputs": [
    {
     "data": {
      "text/latex": [
       "$\\displaystyle 0$"
      ],
      "text/plain": [
       "0"
      ]
     },
     "execution_count": 19,
     "metadata": {},
     "output_type": "execute_result"
    }
   ],
   "source": [
    "R3.grade(expr, 3)"
   ]
  },
  {
   "cell_type": "markdown",
   "metadata": {},
   "source": [
    "# Basic Geometric Operations"
   ]
  },
  {
   "cell_type": "markdown",
   "metadata": {},
   "source": [
    "Going back to how we said the inner product was the lowest-dimension possible part of the product, and the outer product was the highest-dimension part of the product, we can define them as:\n",
    "\n",
    "$a \\wedge b = \\langle a b \\rangle_{s + t}$  \n",
    "$a \\cdot b = \\langle a b \\rangle_{|s - t|}$\n",
    "\n",
    "where $s$ and $t$ are the maximum non-zero grades of $a$ and $b$."
   ]
  },
  {
   "cell_type": "code",
   "execution_count": 20,
   "metadata": {},
   "outputs": [
    {
     "data": {
      "text/latex": [
       "$\\displaystyle 1 - e_{1} e_{2} + 2 e_{1} e_{3} + 2 e_{2} e_{3}$"
      ],
      "text/plain": [
       "1 - e1*e2 + 2*e1*e3 + 2*e2*e3"
      ]
     },
     "execution_count": 20,
     "metadata": {},
     "output_type": "execute_result"
    }
   ],
   "source": [
    "# Product of two vectors has two grades, where s = t = 1\n",
    "R3.product(e1 + e2, 2 * e3 + e1)"
   ]
  },
  {
   "cell_type": "code",
   "execution_count": 21,
   "metadata": {},
   "outputs": [
    {
     "data": {
      "text/latex": [
       "$\\displaystyle - e_{1} e_{2} + 2 e_{1} e_{3} + 2 e_{2} e_{3}$"
      ],
      "text/plain": [
       "-e1*e2 + 2*e1*e3 + 2*e2*e3"
      ]
     },
     "execution_count": 21,
     "metadata": {},
     "output_type": "execute_result"
    }
   ],
   "source": [
    "# Outer product of two vectors is the oriented area spanned by them\n",
    "# The magnitude is the signed area, and the direction is the plane\n",
    "# The selected grade is s + t = 2\n",
    "R3.outer(e1 + e2, 2 * e3 + e1)"
   ]
  },
  {
   "cell_type": "code",
   "execution_count": 22,
   "metadata": {},
   "outputs": [
    {
     "data": {
      "text/latex": [
       "$\\displaystyle 1$"
      ],
      "text/plain": [
       "1"
      ]
     },
     "execution_count": 22,
     "metadata": {},
     "output_type": "execute_result"
    }
   ],
   "source": [
    "# The inner product of two vectors is the dot product\n",
    "# The selected grade is |s - t|= 0\n",
    "R3.inner(e1 + e2, 2 * e3 + e1)  "
   ]
  },
  {
   "cell_type": "code",
   "execution_count": 23,
   "metadata": {},
   "outputs": [
    {
     "data": {
      "text/latex": [
       "$\\displaystyle e_{1} e_{2} e_{3}$"
      ],
      "text/plain": [
       "e1*e2*e3"
      ]
     },
     "execution_count": 23,
     "metadata": {},
     "output_type": "execute_result"
    }
   ],
   "source": [
    "# Outer product of 2-vector and 1-vector creates a volume (parallelepiped)\n",
    "# Grade is s + t = 2 + 1 = 3\n",
    "R3.outer(e12, e3)  "
   ]
  },
  {
   "cell_type": "code",
   "execution_count": 24,
   "metadata": {},
   "outputs": [
    {
     "data": {
      "text/latex": [
       "$\\displaystyle e_{2}$"
      ],
      "text/plain": [
       "e2"
      ]
     },
     "execution_count": 24,
     "metadata": {},
     "output_type": "execute_result"
    }
   ],
   "source": [
    "# Inner product of a 1-vector and a 2-vector creates a 1-vector.\n",
    "# This is the orthogonal complement of the vector e1 in the plane e12\n",
    "# Grade is |s - t| = |1 - 2| = 1\n",
    "R3.inner(e1, e12)"
   ]
  },
  {
   "cell_type": "markdown",
   "metadata": {},
   "source": [
    "# Dual"
   ]
  },
  {
   "cell_type": "markdown",
   "metadata": {},
   "source": [
    "There's a strong notion of duality in geometric algebra. The dual of a $k$-vector is the $(N-k)$-vector that represents the orthogonal complement of it within $\\mathbb{R}^N$. So for example:"
   ]
  },
  {
   "cell_type": "code",
   "execution_count": 25,
   "metadata": {},
   "outputs": [
    {
     "data": {
      "text/latex": [
       "$\\displaystyle e_{3}$"
      ],
      "text/plain": [
       "e3"
      ]
     },
     "execution_count": 25,
     "metadata": {},
     "output_type": "execute_result"
    }
   ],
   "source": [
    "# In three dimensions, the dual of a plane is its normal vector\n",
    "R3.dual(e1 * e2)"
   ]
  },
  {
   "cell_type": "code",
   "execution_count": 26,
   "metadata": {},
   "outputs": [
    {
     "data": {
      "text/latex": [
       "$\\displaystyle e_{1} e_{2}$"
      ],
      "text/plain": [
       "e1*e2"
      ]
     },
     "execution_count": 26,
     "metadata": {},
     "output_type": "execute_result"
    }
   ],
   "source": [
    "# And the dual of a vector is the plane it is normal to\n",
    "R3.dual(e3)"
   ]
  },
  {
   "cell_type": "code",
   "execution_count": 27,
   "metadata": {},
   "outputs": [
    {
     "data": {
      "text/latex": [
       "$\\displaystyle e_{1} e_{2} e_{3}$"
      ],
      "text/plain": [
       "e1*e2*e3"
      ]
     },
     "execution_count": 27,
     "metadata": {},
     "output_type": "execute_result"
    }
   ],
   "source": [
    "# The dual of a scalar is a volume\n",
    "R3.dual(1)"
   ]
  },
  {
   "cell_type": "code",
   "execution_count": 28,
   "metadata": {},
   "outputs": [
    {
     "data": {
      "text/latex": [
       "$\\displaystyle 1$"
      ],
      "text/plain": [
       "1"
      ]
     },
     "execution_count": 28,
     "metadata": {},
     "output_type": "execute_result"
    }
   ],
   "source": [
    "# And the dual of a volume is a scalar\n",
    "R3.dual(e1 * e2 * e3)"
   ]
  },
  {
   "cell_type": "markdown",
   "metadata": {},
   "source": [
    "You may have noticed this already, but the dual is trivially computed by flipping the indices of each blade. So in $\\mathbb{R}^3$, $e_1 \\Rightarrow e_{23}$, $1 \\Rightarrow e_{123}$, etc.\n",
    "\n",
    "In two dimensions, we have that a scalar is dual to the plane, and a vector is dual to its orthogonal direction."
   ]
  },
  {
   "cell_type": "code",
   "execution_count": 33,
   "metadata": {},
   "outputs": [
    {
     "data": {
      "text/latex": [
       "$\\displaystyle e_{1} e_{2}$"
      ],
      "text/plain": [
       "e1*e2"
      ]
     },
     "execution_count": 33,
     "metadata": {},
     "output_type": "execute_result"
    }
   ],
   "source": [
    "R2 = GeometricAlgebra.generate(2, 0, 0)\n",
    "R2.dual(1)"
   ]
  },
  {
   "cell_type": "code",
   "execution_count": 34,
   "metadata": {},
   "outputs": [
    {
     "data": {
      "text/latex": [
       "$\\displaystyle - 2 e_{1} + e_{2}$"
      ],
      "text/plain": [
       "-2*e1 + e2"
      ]
     },
     "execution_count": 34,
     "metadata": {},
     "output_type": "execute_result"
    }
   ],
   "source": [
    "R2.dual(e1 - 2 * e2)"
   ]
  },
  {
   "cell_type": "markdown",
   "metadata": {},
   "source": []
  },
  {
   "cell_type": "markdown",
   "metadata": {},
   "source": [
    "## Reflections"
   ]
  },
  {
   "cell_type": "code",
   "execution_count": null,
   "metadata": {},
   "outputs": [],
   "source": []
  },
  {
   "cell_type": "markdown",
   "metadata": {},
   "source": [
    "## Homogenous (projective) space\n",
    "cayley tables"
   ]
  },
  {
   "cell_type": "markdown",
   "metadata": {},
   "source": [
    "## Join, Meet"
   ]
  },
  {
   "cell_type": "markdown",
   "metadata": {},
   "source": [
    "## Motors"
   ]
  },
  {
   "cell_type": "markdown",
   "metadata": {},
   "source": [
    "exponential"
   ]
  },
  {
   "cell_type": "markdown",
   "metadata": {},
   "source": [
    "## Lie Algebra"
   ]
  },
  {
   "cell_type": "markdown",
   "metadata": {},
   "source": [
    "foiefwe"
   ]
  },
  {
   "cell_type": "code",
   "execution_count": null,
   "metadata": {},
   "outputs": [],
   "source": []
  }
 ],
 "metadata": {
  "kernelspec": {
   "display_name": "Python 3",
   "language": "python",
   "name": "python3"
  },
  "language_info": {
   "codemirror_mode": {
    "name": "ipython",
    "version": 3
   },
   "file_extension": ".py",
   "mimetype": "text/x-python",
   "name": "python",
   "nbconvert_exporter": "python",
   "pygments_lexer": "ipython3",
   "version": "3.7.6"
  }
 },
 "nbformat": 4,
 "nbformat_minor": 2
}
