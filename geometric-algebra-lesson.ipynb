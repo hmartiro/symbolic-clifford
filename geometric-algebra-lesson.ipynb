{
 "cells": [
  {
   "cell_type": "markdown",
   "metadata": {},
   "source": [
    "# Geometric Algebra Intro"
   ]
  },
  {
   "cell_type": "markdown",
   "metadata": {},
   "source": [
    "## Motivation"
   ]
  },
  {
   "cell_type": "markdown",
   "metadata": {},
   "source": [
    "Problems: \n",
    "* rotations = confusing\n",
    "  * quaternions are 4D hyperspheres? wtf? where does the math come from?\n",
    "  * rotations in 2D, 3D, 4D have completely different implementations\n",
    "* handling of infinity in projective geometry = confusing  \n",
    "  * Lots of if statements, special cases\n",
    "* cross products = confusing  \n",
    "  * Right hand rule?\n",
    "* lie groups = confusing   \n",
    "\n",
    "What we get:\n",
    "* Naturally \"typed\" points, vectors, lines, planes\n",
    "* Intuitive projections, intersections, metrics, norms on all types\n",
    "* Exception/conditional free code\n",
    "* Rotations and translations use the same formulas, on all types\n",
    "* Formulas generalize to any number of dimensions\n",
    "* Derive complex numbers, quaternions, dual quaternions, lie algebras\n",
    "\n",
    "Used in more complex math. Quantum physics. Spacetime. Conformal geometry. Also much easier to explain to a child."
   ]
  },
  {
   "cell_type": "markdown",
   "metadata": {},
   "source": [
    " is coordinate-free,  \n",
    "• has a uniform representation for points, lines, and planes,  \n",
    "• can calculate “parallel-safe” meet and join of these geometric entities,  \n",
    "• provides compact expressions for all classical euclidean formulas and  \n",
    "constructions, including distances and angles, perpendiculars and parallels,  \n",
    "orthogonal projections, and other metric operations,  \n",
    "• has a single, geometrically intuitive form for euclidean motions, one  \n",
    "with a single representation for operators and operands,  \n",
    "• provides automatic differentiation of functions of one or several variables,  \n",
    "• provides a compact, efficient model for kinematics and rigid body mechanics,  \n",
    "• lends itself to efficient, practical implementation, and  "
   ]
  },
  {
   "cell_type": "markdown",
   "metadata": {},
   "source": [
    "## Algebraic System"
   ]
  },
  {
   "cell_type": "markdown",
   "metadata": {},
   "source": [
    "We're going to build up a system for doing geometry using algebra. Algebra is the study of symbols. This system does not use matrices or vectors explicitly, instead defining symbols that follow certain algebraic rules, and using them to represent geometric concepts and operations on them.\n",
    "\n",
    "We're going to start with standard case where $e_1, ..., e_N$ represent the bases of $\\mathbb{R}^N$. These symbols get operated on just like any variables. Addition and multiplication behave as usual, but multiplication has a couple of special rules:\n",
    "\n",
    "1) The square of a basis contracts to a scalar: $e_i e_i = 1$  \n",
    "2) The product of two different bases is anti-commutative: $e_i e_j = -e_j e_i$\n",
    "\n",
    "There are reasons these rules are defined, but generally we should use the simplest set of rules that allow us to build up abstractions and deal with complex topics, and these rules allow us to do a whole lot."
   ]
  },
  {
   "cell_type": "code",
   "execution_count": 262,
   "metadata": {},
   "outputs": [],
   "source": [
    "# Define R3 bases with sympy, which luckily supports non-commutative symbols.\n",
    "import sympy as sm\n",
    "e1, e2, e3 = sm.symbols('e1 e2 e3', commutative=False)"
   ]
  },
  {
   "cell_type": "markdown",
   "metadata": {},
   "source": [
    "Define an expression that is analogous to the vector (1, 2, -3):"
   ]
  },
  {
   "cell_type": "code",
   "execution_count": 264,
   "metadata": {},
   "outputs": [
    {
     "data": {
      "text/latex": [
       "$\\displaystyle e_{1} + 2 e_{2} - 3 e_{3}$"
      ],
      "text/plain": [
       "e1 + 2*e2 - 3*e3"
      ]
     },
     "execution_count": 264,
     "metadata": {},
     "output_type": "execute_result"
    }
   ],
   "source": [
    "vec = e1 + 2 * e2 - 3 * e3\n",
    "vec"
   ]
  },
  {
   "cell_type": "markdown",
   "metadata": {},
   "source": [
    "We've been taught we can't \"multiply\" two vectors, but there's nothing stopping an open-minded person from doing so."
   ]
  },
  {
   "cell_type": "code",
   "execution_count": 265,
   "metadata": {},
   "outputs": [
    {
     "data": {
      "text/latex": [
       "$\\displaystyle - 2 e_{1} e_{2} + e_{1}^{2} + 2 e_{2} e_{1} - 4 e_{2}^{2}$"
      ],
      "text/plain": [
       "-2*e1*e2 + e1**2 + 2*e2*e1 - 4*e2**2"
      ]
     },
     "execution_count": 265,
     "metadata": {},
     "output_type": "execute_result"
    }
   ],
   "source": [
    "expr = sm.expand((e1 + 2 * e2) * (e1 - 2 * e2))\n",
    "expr"
   ]
  },
  {
   "cell_type": "markdown",
   "metadata": {},
   "source": [
    "We don't yet know what this means, but multiplying elements like this is the main operation in geometric algebra."
   ]
  },
  {
   "cell_type": "markdown",
   "metadata": {},
   "source": [
    "## Simplification\n",
    "So far we've only told sympy that the symbols do not commute (note how there are $e_2 e_1$ and $e_1 e_2$ terms, but we haven't applied our special simplifications. Let's create a function that does so."
   ]
  },
  {
   "cell_type": "code",
   "execution_count": 326,
   "metadata": {},
   "outputs": [],
   "source": [
    "def simp(a):\n",
    "    \"\"\" Apply simplifications to bases until no changes occur. \"\"\"\n",
    "    subs = {\n",
    "        # Rule 1) Square of a basis is one\n",
    "        e1**2: 1,\n",
    "        e2**2: 1,\n",
    "        e3**2: 1,\n",
    "        # Rule 2) Bases are anti-commutative, prefer increasing order\n",
    "        e2*e1: -e1*e2,\n",
    "        e3*e1: -e1*e3,\n",
    "        e3*e2: -e2*e3\n",
    "    }\n",
    "    while True:\n",
    "        b = sm.expand(a).subs(subs)\n",
    "        if b == a:\n",
    "            return b\n",
    "        a = b"
   ]
  },
  {
   "cell_type": "markdown",
   "metadata": {},
   "source": [
    "See that this behaves as expected on some simple examples:"
   ]
  },
  {
   "cell_type": "code",
   "execution_count": 327,
   "metadata": {},
   "outputs": [
    {
     "data": {
      "text/latex": [
       "$\\displaystyle 1$"
      ],
      "text/plain": [
       "1"
      ]
     },
     "execution_count": 327,
     "metadata": {},
     "output_type": "execute_result"
    }
   ],
   "source": [
    "simp(e1 * e1)  # Contracts"
   ]
  },
  {
   "cell_type": "code",
   "execution_count": 328,
   "metadata": {},
   "outputs": [
    {
     "data": {
      "text/latex": [
       "$\\displaystyle e_{1} e_{2}$"
      ],
      "text/plain": [
       "e1*e2"
      ]
     },
     "execution_count": 328,
     "metadata": {},
     "output_type": "execute_result"
    }
   ],
   "source": [
    "simp(e1 * e2)  # Nothing happens"
   ]
  },
  {
   "cell_type": "code",
   "execution_count": 329,
   "metadata": {},
   "outputs": [
    {
     "data": {
      "text/latex": [
       "$\\displaystyle - e_{1} e_{2}$"
      ],
      "text/plain": [
       "-e1*e2"
      ]
     },
     "execution_count": 329,
     "metadata": {},
     "output_type": "execute_result"
    }
   ],
   "source": [
    "simp(e2 * e1)  # Anti-commutes"
   ]
  },
  {
   "cell_type": "code",
   "execution_count": 330,
   "metadata": {},
   "outputs": [
    {
     "data": {
      "text/latex": [
       "$\\displaystyle - e_{1}$"
      ],
      "text/plain": [
       "-e1"
      ]
     },
     "execution_count": 330,
     "metadata": {},
     "output_type": "execute_result"
    }
   ],
   "source": [
    "simp(e2 * e1 * e2)  # Anti-commutes then contracts"
   ]
  },
  {
   "cell_type": "markdown",
   "metadata": {},
   "source": [
    "Now let's simplify our vector-vector product from before:"
   ]
  },
  {
   "cell_type": "code",
   "execution_count": 331,
   "metadata": {},
   "outputs": [
    {
     "data": {
      "text/latex": [
       "$\\displaystyle - 2 e_{1} e_{2} + e_{1}^{2} + 2 e_{2} e_{1} - 4 e_{2}^{2}$"
      ],
      "text/plain": [
       "-2*e1*e2 + e1**2 + 2*e2*e1 - 4*e2**2"
      ]
     },
     "execution_count": 331,
     "metadata": {},
     "output_type": "execute_result"
    }
   ],
   "source": [
    "expr = sm.expand((e1 + 2 * e2) * (e1 - 2 * e2))\n",
    "expr"
   ]
  },
  {
   "cell_type": "code",
   "execution_count": 332,
   "metadata": {},
   "outputs": [
    {
     "data": {
      "text/latex": [
       "$\\displaystyle -3 - 4 e_{1} e_{2}$"
      ],
      "text/plain": [
       "-3 - 4*e1*e2"
      ]
     },
     "execution_count": 332,
     "metadata": {},
     "output_type": "execute_result"
    }
   ],
   "source": [
    "simp(expr)"
   ]
  },
  {
   "cell_type": "markdown",
   "metadata": {},
   "source": [
    "Note that we are left with a scalar and what we'll call a *bivector*. This math easy to work through, all the squares contribute to the scalar component ($e_1^2 - 4e_2^2 = 1 - 4 = -3$), and anti-commutation combines the other terms ($-2 e_1 e_2 + 2 e_2 e_1 = -2 e_1 e_2 - 2 e_1 e_2 = -4 e_1 e_2$)."
   ]
  },
  {
   "cell_type": "markdown",
   "metadata": {},
   "source": [
    "## Multivectors"
   ]
  },
  {
   "cell_type": "markdown",
   "metadata": {},
   "source": [
    "In general we define a *$k$-vector* as the product of $k$ bases. For example:\n",
    " * $42$ is a 0-vector  \n",
    " * $3 e_1 + 2 e_2$ is a 1-vector  \n",
    " * $3 e_1 e_2 + 5 e_1 e_3$ is a 2-vector.\n",
    " \n",
    "A general element of this algebra is called a *multivector*, which is a linear combination of $k$-vectors. In an algebra of dimension $N$, we can only have $k$-vectors up to $k=N$. Note how the simplifcation rules will cancel any higher order terms out:"
   ]
  },
  {
   "cell_type": "code",
   "execution_count": 333,
   "metadata": {},
   "outputs": [
    {
     "data": {
      "text/latex": [
       "$\\displaystyle e_{1} e_{2} e_{3}$"
      ],
      "text/plain": [
       "e1*e2*e3"
      ]
     },
     "execution_count": 333,
     "metadata": {},
     "output_type": "execute_result"
    }
   ],
   "source": [
    "simp(e1 * e2 * e3 * e2 * e2)"
   ]
  },
  {
   "cell_type": "code",
   "execution_count": 334,
   "metadata": {},
   "outputs": [
    {
     "data": {
      "text/latex": [
       "$\\displaystyle - e_{3}$"
      ],
      "text/plain": [
       "-e3"
      ]
     },
     "execution_count": 334,
     "metadata": {},
     "output_type": "execute_result"
    }
   ],
   "source": [
    "simp(e1 * e2 * e3 * e2 * e2 * e1 * e2)"
   ]
  },
  {
   "cell_type": "markdown",
   "metadata": {},
   "source": [
    "The highest order element we can have for $\\mathbb{R}^3$ is the $3$-vector $e_1 e_2 e_3$. The general form of a multivector in this space is:\n",
    "\n",
    "$c_1 + c_2 e_1 + c_3 e_2 + c_4 e_3 + c_5 e_1 e_2 + c_6 e_1 e_3 + c_7 e_2 e_3 + c_8 e_1 e_2 e_3$\n",
    "\n",
    "In $\\mathbb{R}^2$ we have only two bases and one bivector:\n",
    "\n",
    "$c_1 + c_2 e_1 + c_3 e_2 + c_4 e_1 e_2$\n",
    "\n",
    "Mathematically, this algebra is a ring - a set that defines addition and multiplication. It is also a closed group - any element of the algebra will have the above form for some coefficients $c$. It is commutative under addition but non-commutative under multiplication. It is always associative.\n",
    "\n",
    "So far we've defined the geometric algebra for $\\mathbb{R}^N$ but not interpreted or used it for geometry."
   ]
  },
  {
   "cell_type": "markdown",
   "metadata": {},
   "source": [
    "## Meaning\n",
    "If $e_1$ and $e_2$ are unit vectors, what does the bivector $e_1 e_2$ represent? Intuitively, it represents an *oriented area*, in the same way that a vector represents an *oriented length*. It can be thought of as the plane defined by the two vectors, with an area spanned by their parallelogram:"
   ]
  },
  {
   "cell_type": "markdown",
   "metadata": {},
   "source": [
    "<img style=\"float: left; width: 200px;\" src=\"https://www.researchgate.net/profile/A_Arsenovic/publication/318475103/figure/fig6/AS:547679924756491@1507588477780/Geometric-algebra-for-three-dimensional-space-illustrating-the-vector-and-bivector-basis.png\"/>"
   ]
  },
  {
   "cell_type": "markdown",
   "metadata": {},
   "source": [
    "Similarly, a trivector represents an oriented volume. In $\\mathbb{R}^3$ it's more like a signed volume since there is only one trivector $e_{123}$.\n",
    "\n",
    "<img style=\"float: left; width: 250px;\" src=\"https://i.stack.imgur.com/UNRIn.png\"/>"
   ]
  },
  {
   "cell_type": "markdown",
   "metadata": {},
   "source": [
    "The following is the general case for the product of two vectors in $\\mathbb{R}^2$:"
   ]
  },
  {
   "cell_type": "code",
   "execution_count": 335,
   "metadata": {},
   "outputs": [
    {
     "data": {
      "text/latex": [
       "$\\displaystyle a c + a d e_{1} e_{2} - b c e_{1} e_{2} + b d$"
      ],
      "text/plain": [
       "a*c + a*d*e1*e2 - b*c*e1*e2 + b*d"
      ]
     },
     "execution_count": 335,
     "metadata": {},
     "output_type": "execute_result"
    }
   ],
   "source": [
    "a, b, c, d = sm.symbols('a b c d')\n",
    "simp((a * e1 + b * e2) * (c * e1 + d * e2))"
   ]
  },
  {
   "cell_type": "markdown",
   "metadata": {},
   "source": [
    "Note how the product is a multivector that is the sum of a scalar $ac + bd$ and a bivector $(ad - bc) e_1 e_2$. How do we interpret this? Well, they are both interesting quantities but we generally treat them separately. The \n",
    "\n",
    "grade operation\n",
    "\n",
    "$a = (ac + bd) + (ad - bc) e_1 e_2$  \n",
    "$\\langle a \\rangle_0 = ac + bd$  \n",
    "$\\langle a \\rangle_1 = 0$  \n",
    "$\\langle a \\rangle_2 = (ad - bc) e_1 e_2$  \n",
    "$\\langle a \\rangle_3 = 0$  "
   ]
  },
  {
   "cell_type": "markdown",
   "metadata": {},
   "source": [
    "inner product, outer product"
   ]
  },
  {
   "cell_type": "code",
   "execution_count": 336,
   "metadata": {},
   "outputs": [
    {
     "data": {
      "text/latex": [
       "$\\displaystyle 14$"
      ],
      "text/plain": [
       "14"
      ]
     },
     "execution_count": 336,
     "metadata": {},
     "output_type": "execute_result"
    }
   ],
   "source": [
    "simp((e1 + 2*e2 + 3*e3)**2)"
   ]
  },
  {
   "cell_type": "code",
   "execution_count": null,
   "metadata": {},
   "outputs": [],
   "source": []
  },
  {
   "cell_type": "code",
   "execution_count": null,
   "metadata": {},
   "outputs": [],
   "source": []
  },
  {
   "cell_type": "code",
   "execution_count": null,
   "metadata": {},
   "outputs": [],
   "source": []
  },
  {
   "cell_type": "code",
   "execution_count": null,
   "metadata": {},
   "outputs": [],
   "source": []
  },
  {
   "cell_type": "code",
   "execution_count": null,
   "metadata": {},
   "outputs": [],
   "source": []
  },
  {
   "cell_type": "markdown",
   "metadata": {},
   "source": [
    "## Homogenous (projective) space\n",
    "cayley tables"
   ]
  },
  {
   "cell_type": "markdown",
   "metadata": {},
   "source": [
    "## Motors"
   ]
  },
  {
   "cell_type": "markdown",
   "metadata": {},
   "source": [
    "exponential"
   ]
  },
  {
   "cell_type": "markdown",
   "metadata": {},
   "source": [
    "## Lie Algebra"
   ]
  },
  {
   "cell_type": "markdown",
   "metadata": {},
   "source": [
    "foiefwe"
   ]
  },
  {
   "cell_type": "code",
   "execution_count": null,
   "metadata": {},
   "outputs": [],
   "source": []
  }
 ],
 "metadata": {
  "kernelspec": {
   "display_name": "Python 2",
   "language": "python",
   "name": "python2"
  },
  "language_info": {
   "codemirror_mode": {
    "name": "ipython",
    "version": 2
   },
   "file_extension": ".py",
   "mimetype": "text/x-python",
   "name": "python",
   "nbconvert_exporter": "python",
   "pygments_lexer": "ipython2",
   "version": "2.7.16"
  }
 },
 "nbformat": 4,
 "nbformat_minor": 2
}
