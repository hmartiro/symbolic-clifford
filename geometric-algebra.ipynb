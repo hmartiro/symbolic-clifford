{
 "cells": [
  {
   "cell_type": "code",
   "execution_count": 1,
   "metadata": {},
   "outputs": [],
   "source": [
    "import numpy as np\n",
    "import sympy as sm\n",
    "from geoalg import ProjectiveGeometry3D\n",
    "\n",
    "np.random.seed(0)"
   ]
  },
  {
   "cell_type": "code",
   "execution_count": 2,
   "metadata": {},
   "outputs": [],
   "source": [
    "A = ProjectiveGeometry3D.create()\n",
    "e0, e1, e2, e3 = A.blades[1]\n",
    "e01, e02, e03, e12, e13, e23 = A.blades[2]\n",
    "e012, e013, e023, e123 = A.blades[3]\n",
    "e0123, = A.blades[4]\n",
    "A.e0, A.e1, A.e2, A.e3 = e0, e1, e2, e3"
   ]
  },
  {
   "cell_type": "code",
   "execution_count": 3,
   "metadata": {},
   "outputs": [],
   "source": [
    "# res = A.codegen_binary_op(lambda a, b: a * b)\n",
    "# print(res)"
   ]
  },
  {
   "cell_type": "code",
   "execution_count": 4,
   "metadata": {},
   "outputs": [],
   "source": [
    "# res = A.codegen_binary_op(A.sandwich)\n",
    "# print(res)"
   ]
  },
  {
   "cell_type": "code",
   "execution_count": 5,
   "metadata": {},
   "outputs": [],
   "source": [
    "def random_blade(grade, maxint=1):\n",
    "    return sum(np.random.randint(-maxint, maxint) * b for b in A.blades[grade])\n",
    "\n",
    "def random_multivec(maxint=1):\n",
    "    return sum(random_blade(i, maxint=maxint) for i in range(len(A.blades)))"
   ]
  },
  {
   "cell_type": "code",
   "execution_count": 6,
   "metadata": {},
   "outputs": [],
   "source": [
    "def test(a, b, func1, func2):\n",
    "    c1 = func1(a, b)\n",
    "    c2 = func2(a, b)\n",
    "    if c1 != c2:\n",
    "        raise RuntimeError('Products not equivalent.\\na: {}\\nb: {}\\nc1: {}\\nc2: {}'.format(a, b, c1, c2))\n",
    "    assert c1 == c2"
   ]
  },
  {
   "cell_type": "code",
   "execution_count": 7,
   "metadata": {},
   "outputs": [],
   "source": [
    "# Scalars are dual to pseudoscalar\n",
    "# Planes are the same as vectors (vector is 0 fourth component, plane through origin)\n",
    "# Points are dual to planes\n",
    "# Lines are intermediate, dual to themselves\n",
    "# Points with zero e0 component are ideal points (vectors / direction). Dual to planes through the origin.\n",
    "# Lines through the origin have no e0*ei components, are dual to ideal lines\n",
    "# Complex numbers - square root of -1"
   ]
  },
  {
   "cell_type": "code",
   "execution_count": 8,
   "metadata": {},
   "outputs": [],
   "source": [
    "# Rotations are about planes not vectors\n",
    "#  - think 2D case, 4D case. way more intuitive. no line out of page\n",
    "# Specifying lines as point + direction is annoying\n",
    "# Specifying planes as normal vector and offset separately is annoying\n",
    "# Quaternion math, derivation from reflection\n",
    "# Identical implementation of 2D and 3D, including pose transforms\n",
    "# Treatment of translations and rotations\n",
    "# Lie algebra derivation\n",
    "# Autodiff with pseudoscalar"
   ]
  },
  {
   "cell_type": "code",
   "execution_count": 9,
   "metadata": {},
   "outputs": [],
   "source": [
    "# lie groups = confusing\n",
    "# quaternion math = confusing\n",
    "# handling of infinity in projective geometry = confusing\n",
    "# cross products = confusing\n",
    "\n",
    "# a * b = |a||b| * (cos(ang) + sin(ang) * B)\n",
    "# where B is a bivector of two orthogonal unit vectors in the plane of a and b\n",
    "# for unit a, b\n",
    "# a * b = cos(ang) + sin(ang) * B"
   ]
  },
  {
   "cell_type": "code",
   "execution_count": 10,
   "metadata": {},
   "outputs": [],
   "source": [
    "# Start with geometric product idea\n",
    "# Show that it is a closed ring (closed group, addition and multiplication)\n",
    "# Associative but not commutative\n",
    "# Reason about what different grades mean\n",
    "# General product has multiple resulting grades\n",
    "# Call lowest one inner product and highest one outer product\n",
    "# rotors / screws\n",
    "# Notion of duality\n",
    "# Use in quantum mechanics"
   ]
  },
  {
   "cell_type": "code",
   "execution_count": 11,
   "metadata": {},
   "outputs": [
    {
     "data": {
      "text/latex": [
       "$\\displaystyle e_{0} e_{1} e_{2} + 3 e_{0} e_{2} e_{3} + e_{1} e_{2} e_{3}$"
      ],
      "text/plain": [
       "e0*e1*e2 + 3*e0*e2*e3 + e1*e2*e3"
      ]
     },
     "execution_count": 11,
     "metadata": {},
     "output_type": "execute_result"
    }
   ],
   "source": [
    "# Create two points\n",
    "P1 = A.point(1, 0, 3)\n",
    "P2 = A.point(0, 0, 3)\n",
    "P1"
   ]
  },
  {
   "cell_type": "code",
   "execution_count": 12,
   "metadata": {},
   "outputs": [
    {
     "data": {
      "text/latex": [
       "$\\displaystyle - 3 e_{0} e_{2} - e_{1} e_{2}$"
      ],
      "text/plain": [
       "-3*e0*e2 - e1*e2"
      ]
     },
     "execution_count": 12,
     "metadata": {},
     "output_type": "execute_result"
    }
   ],
   "source": [
    "# Line between two points\n",
    "l = A.join(P1, P2)\n",
    "l"
   ]
  },
  {
   "cell_type": "code",
   "execution_count": 13,
   "metadata": {},
   "outputs": [
    {
     "data": {
      "text/latex": [
       "$\\displaystyle e_{0} + e_{1} + e_{2}$"
      ],
      "text/plain": [
       "e0 + e1 + e2"
      ]
     },
     "execution_count": 13,
     "metadata": {},
     "output_type": "execute_result"
    }
   ],
   "source": [
    "# Create plane\n",
    "p = A.plane(1, 1, 0, 1)\n",
    "p"
   ]
  },
  {
   "cell_type": "code",
   "execution_count": 14,
   "metadata": {},
   "outputs": [
    {
     "data": {
      "text/latex": [
       "$\\displaystyle \\frac{e_{0} + e_{1} + e_{2}}{2}$"
      ],
      "text/plain": [
       "(e0 + e1 + e2)/2"
      ]
     },
     "execution_count": 14,
     "metadata": {},
     "output_type": "execute_result"
    }
   ],
   "source": [
    "p / A.product(p, p)"
   ]
  },
  {
   "cell_type": "code",
   "execution_count": 15,
   "metadata": {},
   "outputs": [
    {
     "data": {
      "text/latex": [
       "$\\displaystyle e_{0} e_{1} - e_{0} e_{2} - 3 e_{0} e_{3} - e_{1} e_{3} + e_{2} e_{3}$"
      ],
      "text/plain": [
       "e0*e1 - e0*e2 - 3*e0*e3 - e1*e3 + e2*e3"
      ]
     },
     "execution_count": 15,
     "metadata": {},
     "output_type": "execute_result"
    }
   ],
   "source": [
    "# Line orthogonal to plane p through point P\n",
    "A.inner(p, P1)"
   ]
  },
  {
   "cell_type": "code",
   "execution_count": 16,
   "metadata": {},
   "outputs": [
    {
     "data": {
      "text/latex": [
       "$\\displaystyle 3 e_{0} + e_{1} - e_{2}$"
      ],
      "text/plain": [
       "3*e0 + e1 - e2"
      ]
     },
     "execution_count": 16,
     "metadata": {},
     "output_type": "execute_result"
    }
   ],
   "source": [
    "# Plane orthogonal to plane p through line l\n",
    "A.inner(p, l)"
   ]
  },
  {
   "cell_type": "code",
   "execution_count": 17,
   "metadata": {},
   "outputs": [
    {
     "data": {
      "text/latex": [
       "$\\displaystyle e_{1} e_{2} e_{3}$"
      ],
      "text/plain": [
       "e1*e2*e3"
      ]
     },
     "execution_count": 17,
     "metadata": {},
     "output_type": "execute_result"
    }
   ],
   "source": [
    "A.point(0, 0, 0)"
   ]
  },
  {
   "cell_type": "code",
   "execution_count": 18,
   "metadata": {},
   "outputs": [
    {
     "data": {
      "text/latex": [
       "$\\displaystyle 3 e_{1} e_{2} - 2 e_{1} e_{3} + e_{2} e_{3}$"
      ],
      "text/plain": [
       "3*e1*e2 - 2*e1*e3 + e2*e3"
      ]
     },
     "execution_count": 18,
     "metadata": {},
     "output_type": "execute_result"
    }
   ],
   "source": [
    "A.inner(A.plane(1, 2, 3, 0), A.point(0, 0, 0))"
   ]
  },
  {
   "cell_type": "code",
   "execution_count": 19,
   "metadata": {},
   "outputs": [
    {
     "data": {
      "text/latex": [
       "$\\displaystyle e_{2} e_{3}$"
      ],
      "text/plain": [
       "e2*e3"
      ]
     },
     "execution_count": 19,
     "metadata": {},
     "output_type": "execute_result"
    }
   ],
   "source": [
    "# Create a line\n",
    "l = A.join(A.point(0, 0, 0), A.point(0, 0, 1))\n",
    "l"
   ]
  },
  {
   "cell_type": "code",
   "execution_count": 20,
   "metadata": {},
   "outputs": [
    {
     "data": {
      "text/latex": [
       "$\\displaystyle 0.923879532511287 + 0.38268343236509 e_{2} e_{3}$"
      ],
      "text/plain": [
       "0.923879532511287 + 0.38268343236509*e2*e3"
      ]
     },
     "execution_count": 20,
     "metadata": {},
     "output_type": "execute_result"
    }
   ],
   "source": [
    "# Create rotor along the line\n",
    "rotor = A._rotator(l, np.deg2rad(45))\n",
    "rotor"
   ]
  },
  {
   "cell_type": "code",
   "execution_count": 21,
   "metadata": {},
   "outputs": [
    {
     "data": {
      "text/latex": [
       "$\\displaystyle e_{0} e_{1} e_{2} + 3 e_{0} e_{2} e_{3} + e_{1} e_{2} e_{3}$"
      ],
      "text/plain": [
       "e0*e1*e2 + 3*e0*e2*e3 + e1*e2*e3"
      ]
     },
     "execution_count": 21,
     "metadata": {},
     "output_type": "execute_result"
    }
   ],
   "source": [
    "# Rotate point\n",
    "P1"
   ]
  },
  {
   "cell_type": "code",
   "execution_count": 22,
   "metadata": {},
   "outputs": [
    {
     "data": {
      "text/latex": [
       "$\\displaystyle 1.0 e_{0} + 1.0 e_{1} + 0.707106781186547 e_{2} - 0.707106781186548 e_{3}$"
      ],
      "text/plain": [
       "1.0*e0 + 1.0*e1 + 0.707106781186547*e2 - 0.707106781186548*e3"
      ]
     },
     "execution_count": 22,
     "metadata": {},
     "output_type": "execute_result"
    }
   ],
   "source": [
    "A.sandwich(rotor, p)"
   ]
  },
  {
   "cell_type": "code",
   "execution_count": 23,
   "metadata": {},
   "outputs": [
    {
     "data": {
      "text/latex": [
       "$\\displaystyle 1 + 1.25 e_{0} e_{1}$"
      ],
      "text/plain": [
       "1 + 1.25*e0*e1"
      ]
     },
     "execution_count": 23,
     "metadata": {},
     "output_type": "execute_result"
    }
   ],
   "source": [
    "translator = A.translator(2.5, 0, 0)\n",
    "translator"
   ]
  },
  {
   "cell_type": "code",
   "execution_count": 24,
   "metadata": {},
   "outputs": [
    {
     "data": {
      "text/latex": [
       "$\\displaystyle P_{x} e_{0} e_{1} e_{2} + P_{y} e_{0} e_{1} e_{3} + P_{z} e_{0} e_{2} e_{3} + e_{1} e_{2} e_{3}$"
      ],
      "text/plain": [
       "P_x*e0*e1*e2 + P_y*e0*e1*e3 + P_z*e0*e2*e3 + e1*e2*e3"
      ]
     },
     "execution_count": 24,
     "metadata": {},
     "output_type": "execute_result"
    }
   ],
   "source": [
    "P = A.point(*sm.symbols('P_x P_y P_z'))\n",
    "P"
   ]
  },
  {
   "cell_type": "code",
   "execution_count": 25,
   "metadata": {},
   "outputs": [
    {
     "data": {
      "text/latex": [
       "$\\displaystyle \\frac{t_{x} e_{0} e_{1}}{2} - \\frac{t_{y} e_{0} e_{2}}{2} + \\frac{t_{z} e_{0} e_{3}}{2} + 1$"
      ],
      "text/plain": [
       "t_x*e0*e1/2 - t_y*e0*e2/2 + t_z*e0*e3/2 + 1"
      ]
     },
     "execution_count": 25,
     "metadata": {},
     "output_type": "execute_result"
    }
   ],
   "source": [
    "t = A.translator(*sm.symbols('t_x t_y t_z'))\n",
    "t"
   ]
  },
  {
   "cell_type": "code",
   "execution_count": 26,
   "metadata": {},
   "outputs": [
    {
     "data": {
      "text/latex": [
       "$\\displaystyle \\left(P_{x} + t_{z}\\right) e_{0} e_{1} e_{2} + \\left(P_{y} + t_{y}\\right) e_{0} e_{1} e_{3} + \\left(P_{z} + t_{x}\\right) e_{0} e_{2} e_{3} + e_{1} e_{2} e_{3}$"
      ],
      "text/plain": [
       "(P_x + t_z)*e0*e1*e2 + (P_y + t_y)*e0*e1*e3 + (P_z + t_x)*e0*e2*e3 + e1*e2*e3"
      ]
     },
     "execution_count": 26,
     "metadata": {},
     "output_type": "execute_result"
    }
   ],
   "source": [
    "A.sandwich(t, P)"
   ]
  },
  {
   "cell_type": "code",
   "execution_count": 27,
   "metadata": {},
   "outputs": [
    {
     "data": {
      "text/latex": [
       "$\\displaystyle 0.877582561890373 + 0.251026625003716 e_{2} e_{3}$"
      ],
      "text/plain": [
       "0.877582561890373 + 0.251026625003716*e2*e3"
      ]
     },
     "execution_count": 27,
     "metadata": {},
     "output_type": "execute_result"
    }
   ],
   "source": [
    "def rotator(self, x, y, z):\n",
    "    return self.simp(self._rotator(self.line(0, 0, 0, x, y, z), 1))\n",
    "rotator(A, 0, 0, np.deg2rad(30.)).evalf()"
   ]
  },
  {
   "cell_type": "code",
   "execution_count": 28,
   "metadata": {},
   "outputs": [
    {
     "data": {
      "text/latex": [
       "$\\displaystyle a_{x} \\sin{\\left(\\frac{\\theta}{2} \\right)} e_{1} e_{2} + a_{y} \\sin{\\left(\\frac{\\theta}{2} \\right)} e_{1} e_{3} + a_{z} \\sin{\\left(\\frac{\\theta}{2} \\right)} e_{2} e_{3} + \\cos{\\left(\\frac{\\theta}{2} \\right)}$"
      ],
      "text/plain": [
       "a_x*sin(theta/2)*e1*e2 + a_y*sin(theta/2)*e1*e3 + a_z*sin(theta/2)*e2*e3 + cos(theta/2)"
      ]
     },
     "execution_count": 28,
     "metadata": {},
     "output_type": "execute_result"
    }
   ],
   "source": [
    "axis = sm.symbols('a_x a_y a_z')\n",
    "angle = sm.Symbol('theta')\n",
    "rotor = A.simp(A._rotator(A.line(0, 0, 0, axis[0], axis[1], axis[2]), angle))\n",
    "rotor"
   ]
  },
  {
   "cell_type": "code",
   "execution_count": 29,
   "metadata": {},
   "outputs": [],
   "source": [
    "line = A.line(0, 0, 0, axis[0], axis[1], axis[2])"
   ]
  },
  {
   "cell_type": "code",
   "execution_count": 30,
   "metadata": {},
   "outputs": [
    {
     "data": {
      "text/latex": [
       "$\\displaystyle \\frac{a_{x} e_{1} e_{2}}{\\sqrt{\\left|{a_{x}^{2} + a_{y}^{2} + a_{z}^{2}}\\right|}} + \\frac{a_{y} e_{1} e_{3}}{\\sqrt{\\left|{a_{x}^{2} + a_{y}^{2} + a_{z}^{2}}\\right|}} + \\frac{a_{z} e_{2} e_{3}}{\\sqrt{\\left|{a_{x}^{2} + a_{y}^{2} + a_{z}^{2}}\\right|}}$"
      ],
      "text/plain": [
       "a_x*e1*e2/sqrt(Abs(a_x**2 + a_y**2 + a_z**2)) + a_y*e1*e3/sqrt(Abs(a_x**2 + a_y**2 + a_z**2)) + a_z*e2*e3/sqrt(Abs(a_x**2 + a_y**2 + a_z**2))"
      ]
     },
     "execution_count": 30,
     "metadata": {},
     "output_type": "execute_result"
    }
   ],
   "source": [
    "A.normalized(line)"
   ]
  },
  {
   "cell_type": "code",
   "execution_count": 49,
   "metadata": {},
   "outputs": [
    {
     "data": {
      "text/latex": [
       "$\\displaystyle a_{x} \\sin{\\left(\\frac{\\theta}{2} \\right)} e_{1} e_{2} + a_{y} \\sin{\\left(\\frac{\\theta}{2} \\right)} e_{1} e_{3} + a_{z} \\sin{\\left(\\frac{\\theta}{2} \\right)} e_{2} e_{3} + \\cos{\\left(\\frac{\\theta}{2} \\right)}$"
      ],
      "text/plain": [
       "a_x*sin(theta/2)*e1*e2 + a_y*sin(theta/2)*e1*e3 + a_z*sin(theta/2)*e2*e3 + cos(theta/2)"
      ]
     },
     "execution_count": 49,
     "metadata": {},
     "output_type": "execute_result"
    }
   ],
   "source": [
    "R = A.axis_angle(axis, angle)\n",
    "R"
   ]
  },
  {
   "cell_type": "code",
   "execution_count": 44,
   "metadata": {},
   "outputs": [
    {
     "data": {
      "text/latex": [
       "$\\displaystyle a_{x} \\sin{\\left(\\frac{\\theta}{2} \\right)} e_{1} e_{2} + a_{y} \\sin{\\left(\\frac{\\theta}{2} \\right)} e_{1} e_{3} + a_{z} \\sin{\\left(\\frac{\\theta}{2} \\right)} e_{2} e_{3} + \\left(- \\frac{a_{x} t_{x} \\sin{\\left(\\frac{\\theta}{2} \\right)}}{2} + \\frac{a_{z} t_{z} \\sin{\\left(\\frac{\\theta}{2} \\right)}}{2} - \\frac{t_{y} \\cos{\\left(\\frac{\\theta}{2} \\right)}}{2}\\right) e_{0} e_{2} + \\left(- \\frac{a_{x} t_{y} \\sin{\\left(\\frac{\\theta}{2} \\right)}}{2} + \\frac{a_{y} t_{z} \\sin{\\left(\\frac{\\theta}{2} \\right)}}{2} + \\frac{t_{x} \\cos{\\left(\\frac{\\theta}{2} \\right)}}{2}\\right) e_{0} e_{1} + \\left(\\frac{a_{x} t_{z} \\sin{\\left(\\frac{\\theta}{2} \\right)}}{2} + \\frac{a_{y} t_{y} \\sin{\\left(\\frac{\\theta}{2} \\right)}}{2} + \\frac{a_{z} t_{x} \\sin{\\left(\\frac{\\theta}{2} \\right)}}{2}\\right) e_{0} e_{1} e_{2} e_{3} + \\left(- \\frac{a_{y} t_{x} \\sin{\\left(\\frac{\\theta}{2} \\right)}}{2} + \\frac{a_{z} t_{y} \\sin{\\left(\\frac{\\theta}{2} \\right)}}{2} + \\frac{t_{z} \\cos{\\left(\\frac{\\theta}{2} \\right)}}{2}\\right) e_{0} e_{3} + \\cos{\\left(\\frac{\\theta}{2} \\right)}$"
      ],
      "text/plain": [
       "a_x*sin(theta/2)*e1*e2 + a_y*sin(theta/2)*e1*e3 + a_z*sin(theta/2)*e2*e3 + (-a_x*t_x*sin(theta/2)/2 + a_z*t_z*sin(theta/2)/2 - t_y*cos(theta/2)/2)*e0*e2 + (-a_x*t_y*sin(theta/2)/2 + a_y*t_z*sin(theta/2)/2 + t_x*cos(theta/2)/2)*e0*e1 + (a_x*t_z*sin(theta/2)/2 + a_y*t_y*sin(theta/2)/2 + a_z*t_x*sin(theta/2)/2)*e0*e1*e2*e3 + (-a_y*t_x*sin(theta/2)/2 + a_z*t_y*sin(theta/2)/2 + t_z*cos(theta/2)/2)*e0*e3 + cos(theta/2)"
      ]
     },
     "execution_count": 44,
     "metadata": {},
     "output_type": "execute_result"
    }
   ],
   "source": [
    "Rt = A.product(R, t)\n",
    "Rt"
   ]
  },
  {
   "cell_type": "code",
   "execution_count": 86,
   "metadata": {},
   "outputs": [
    {
     "data": {
      "text/latex": [
       "$\\displaystyle 0.923879532511287 - 0.38268343236509 e_{1} e_{3}$"
      ],
      "text/plain": [
       "0.923879532511287 - 0.38268343236509*e1*e3"
      ]
     },
     "execution_count": 86,
     "metadata": {},
     "output_type": "execute_result"
    }
   ],
   "source": [
    "rot = A.axis_angle([0, -1, 0], np.deg2rad(45))\n",
    "rot"
   ]
  },
  {
   "cell_type": "code",
   "execution_count": 87,
   "metadata": {},
   "outputs": [
    {
     "data": {
      "text/latex": [
       "$\\displaystyle 0.707106781186547 e_{0} e_{1} e_{2} - 0.707106781186548 e_{0} e_{2} e_{3} + 1.0 e_{1} e_{2} e_{3}$"
      ],
      "text/plain": [
       "0.707106781186547*e0*e1*e2 - 0.707106781186548*e0*e2*e3 + 1.0*e1*e2*e3"
      ]
     },
     "execution_count": 87,
     "metadata": {},
     "output_type": "execute_result"
    }
   ],
   "source": [
    "A.sandwich(rot, A.point(1, 0, 0))"
   ]
  },
  {
   "cell_type": "code",
   "execution_count": null,
   "metadata": {},
   "outputs": [],
   "source": []
  }
 ],
 "metadata": {
  "kernelspec": {
   "display_name": "Python 2",
   "language": "python",
   "name": "python2"
  },
  "language_info": {
   "codemirror_mode": {
    "name": "ipython",
    "version": 2
   },
   "file_extension": ".py",
   "mimetype": "text/x-python",
   "name": "python",
   "nbconvert_exporter": "python",
   "pygments_lexer": "ipython2",
   "version": "2.7.16"
  }
 },
 "nbformat": 4,
 "nbformat_minor": 2
}
