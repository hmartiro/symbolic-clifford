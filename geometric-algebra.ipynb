{
 "cells": [
  {
   "cell_type": "code",
   "execution_count": null,
   "metadata": {},
   "outputs": [],
   "source": [
    "import numpy as np\n",
    "import sympy as sm\n",
    "from geoalg import ProjectiveGeometry3D\n",
    "\n",
    "np.random.seed(0)"
   ]
  },
  {
   "cell_type": "code",
   "execution_count": null,
   "metadata": {},
   "outputs": [],
   "source": [
    "A = ProjectiveGeometry3D.create()\n",
    "e0, e1, e2, e3 = A.blades[1]\n",
    "e01, e02, e03, e12, e13, e23 = A.blades[2]\n",
    "e012, e013, e023, e123 = A.blades[3]\n",
    "e0123, = A.blades[4]\n",
    "A.e0, A.e1, A.e2, A.e3 = e0, e1, e2, e3"
   ]
  },
  {
   "cell_type": "code",
   "execution_count": null,
   "metadata": {},
   "outputs": [],
   "source": [
    "# res = A.codegen_binary_op(lambda a, b: a * b)\n",
    "# print(res)"
   ]
  },
  {
   "cell_type": "code",
   "execution_count": null,
   "metadata": {},
   "outputs": [],
   "source": [
    "# res = A.codegen_binary_op(A.sandwich)\n",
    "# print(res)"
   ]
  },
  {
   "cell_type": "code",
   "execution_count": null,
   "metadata": {},
   "outputs": [],
   "source": [
    "def random_blade(grade, maxint=1):\n",
    "    return sum(np.random.randint(-maxint, maxint) * b for b in A.blades[grade])\n",
    "\n",
    "def random_multivec(maxint=1):\n",
    "    return sum(random_blade(i, maxint=maxint) for i in range(len(A.blades)))"
   ]
  },
  {
   "cell_type": "code",
   "execution_count": null,
   "metadata": {},
   "outputs": [],
   "source": [
    "def test(a, b, func1, func2):\n",
    "    c1 = func1(a, b)\n",
    "    c2 = func2(a, b)\n",
    "    if c1 != c2:\n",
    "        raise RuntimeError('Products not equivalent.\\na: {}\\nb: {}\\nc1: {}\\nc2: {}'.format(a, b, c1, c2))\n",
    "    assert c1 == c2"
   ]
  },
  {
   "cell_type": "code",
   "execution_count": null,
   "metadata": {},
   "outputs": [],
   "source": [
    "# Scalars are dual to pseudoscalar\n",
    "# Planes are the same as vectors (vector is 0 fourth component, plane through origin)\n",
    "# Points are dual to planes\n",
    "# Lines are intermediate, dual to themselves"
   ]
  },
  {
   "cell_type": "code",
   "execution_count": null,
   "metadata": {},
   "outputs": [],
   "source": [
    "# Rotations are about planes not vectors\n",
    "#  - think 2D case, 4D case. way more intuitive. no line out of page\n",
    "# Specifying lines as point + direction is annoying\n",
    "# Specifying planes as normal vector and offset separately is annoying\n",
    "# Quaternion math, derivation from reflection\n",
    "# Identical implementation of 2D and 3D, including pose transforms\n",
    "# Treatment of translations and rotations\n",
    "# Lie algebra derivation\n",
    "# Autodiff with pseudoscalar"
   ]
  },
  {
   "cell_type": "code",
   "execution_count": null,
   "metadata": {},
   "outputs": [],
   "source": [
    "# lie groups = confusing\n",
    "# quaternion math = confusing\n",
    "# handling of infinity in projective geometry = confusing\n",
    "# cross products = confusing\n",
    "\n",
    "# a * b = |a||b| * (cos(ang) + sin(ang) * B)\n",
    "# where B is a bivector of two orthogonal unit vectors in the plane of a and b\n",
    "# for unit a, b\n",
    "# a * b = cos(ang) + sin(ang) * B"
   ]
  },
  {
   "cell_type": "code",
   "execution_count": null,
   "metadata": {},
   "outputs": [],
   "source": [
    "# Start with geometric product idea\n",
    "# Show that it is a closed ring (closed group, addition and multiplication)\n",
    "# Associative but not commutative\n",
    "# Reason about what different grades mean\n",
    "# General product has multiple resulting grades\n",
    "# Call lowest one inner product and highest one outer product\n",
    "# rotors / screws\n",
    "# Notion of duality\n",
    "# Use in quantum mechanics"
   ]
  },
  {
   "cell_type": "code",
   "execution_count": null,
   "metadata": {},
   "outputs": [],
   "source": [
    "# Create two points\n",
    "P1 = A.point(1, 0, 3)\n",
    "P2 = A.point(0, 0, 3)\n",
    "P1"
   ]
  },
  {
   "cell_type": "code",
   "execution_count": null,
   "metadata": {},
   "outputs": [],
   "source": [
    "# Line between two points\n",
    "l = A.join(P1, P2)\n",
    "l"
   ]
  },
  {
   "cell_type": "code",
   "execution_count": null,
   "metadata": {},
   "outputs": [],
   "source": [
    "# Create plane\n",
    "p = A.plane(1, 1, 0, 1)\n",
    "p"
   ]
  },
  {
   "cell_type": "code",
   "execution_count": null,
   "metadata": {},
   "outputs": [],
   "source": [
    "p / A.product(p, p)"
   ]
  },
  {
   "cell_type": "code",
   "execution_count": null,
   "metadata": {},
   "outputs": [],
   "source": [
    "# Line orthogonal to plane p through point P\n",
    "A.inner(p, P1)"
   ]
  },
  {
   "cell_type": "code",
   "execution_count": null,
   "metadata": {},
   "outputs": [],
   "source": [
    "# Plane orthogonal to plane p through line l\n",
    "A.inner(p, l)"
   ]
  },
  {
   "cell_type": "code",
   "execution_count": null,
   "metadata": {},
   "outputs": [],
   "source": [
    "A.vector(1, 2, 3)"
   ]
  },
  {
   "cell_type": "code",
   "execution_count": null,
   "metadata": {},
   "outputs": [],
   "source": []
  },
  {
   "cell_type": "code",
   "execution_count": null,
   "metadata": {},
   "outputs": [],
   "source": []
  },
  {
   "cell_type": "code",
   "execution_count": null,
   "metadata": {},
   "outputs": [],
   "source": []
  }
 ],
 "metadata": {
  "kernelspec": {
   "display_name": "Python 2",
   "language": "python",
   "name": "python2"
  },
  "language_info": {
   "codemirror_mode": {
    "name": "ipython",
    "version": 2
   },
   "file_extension": ".py",
   "mimetype": "text/x-python",
   "name": "python",
   "nbconvert_exporter": "python",
   "pygments_lexer": "ipython2",
   "version": "2.7.16"
  }
 },
 "nbformat": 4,
 "nbformat_minor": 2
}
