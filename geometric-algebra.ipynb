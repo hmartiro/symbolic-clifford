{
 "cells": [
  {
   "cell_type": "code",
   "execution_count": null,
   "metadata": {},
   "outputs": [],
   "source": [
    "import itertools\n",
    "\n",
    "import sympy as sm\n",
    "import numpy as np\n",
    "\n",
    "sm.init_printing()\n",
    "\n",
    "\n",
    "class GeometricAlgebra(object):\n",
    "\n",
    "    def __init__(self, bases, cayley_table):\n",
    "        # Multiplication table (used for automatic simpliciation)\n",
    "        self.cayley_table = cayley_table\n",
    "\n",
    "        # Generate blades within this dimension\n",
    "        self.blades = self.create_blades(bases)\n",
    "\n",
    "        self.blades_list = sum(self.blades, [])\n",
    "\n",
    "    @classmethod\n",
    "    def generate(cls, p, m, z, start_inx=0):\n",
    "        \"\"\"\n",
    "        See section (5.4) Sylvester signature theorem\n",
    "            https://bivector.net/PROJECTIVE_GEOMETRIC_ALGEBRA.pdf\n",
    "\n",
    "        Generate a symmetric bilinear form of dimension n = p + m + z\n",
    "\n",
    "        e_i.dot(e_j) = 0\n",
    "\n",
    "        Args:\n",
    "            p (int): e_i.dot(e_i) = +1\n",
    "            m (int): e_i.dot(e_i) = -1\n",
    "            z (int): e_i.dot(e_i) =  0\n",
    "        \"\"\"\n",
    "        assert (p >= 0) and (m >= 0) and (z >= 0)\n",
    "        n = p + m + z\n",
    "        e = sm.symbols('e{}:{}'.format(start_inx, start_inx + n),\n",
    "                       commutative=False)\n",
    "\n",
    "        subs = {}\n",
    "        squares = [0] * z + [1] * p + [-1] * m\n",
    "        for i in range(n):\n",
    "            for j in range(n):\n",
    "                if i == j:\n",
    "                    subs[e[i] * e[i]] = squares[i]\n",
    "                elif i > j:\n",
    "                    subs[e[i] * e[j]] = -e[j] * e[i]\n",
    "\n",
    "        return cls(e, subs)\n",
    "\n",
    "    @staticmethod\n",
    "    def create_blades(bases):\n",
    "        blades = []\n",
    "        for dim in range(len(bases) + 1):\n",
    "            # Blades are products of all unique combinations of dim # of bases\n",
    "            inds_list = itertools.combinations(range(len(bases)), dim)\n",
    "            blades.append(\n",
    "                [sm.S(sm.prod([bases[i] for i in inds])) for inds in inds_list])\n",
    "        return blades\n",
    "\n",
    "    def simp(self, a, collect=True):\n",
    "        while True:\n",
    "            b = sm.expand(a).subs(self.cayley_table, simultaneous=True)\n",
    "            if b == a:\n",
    "                break\n",
    "            a = b\n",
    "        \n",
    "        if collect:\n",
    "            b = sm.collect(b, sum(reversed(self.blades), []))\n",
    "    \n",
    "        return b\n",
    "\n",
    "    def blade(self, dim, coeffs):\n",
    "        assert (dim > 0) and (dim < len(self.blades))\n",
    "        assert len(coeffs) == len(self.blades[dim])\n",
    "        return sum(self.blades[dim][i] * coeff for i, coeff in enumerate(coeffs))\n",
    "    \n",
    "    @property\n",
    "    def pseudoscalar(self):\n",
    "        assert len(self.blades[-1]) == 1\n",
    "        return self.blades[-1][0]\n",
    "    \n",
    "    def coeffs(self, a):\n",
    "        blade_bases = [{e for e in blade.free_symbols}\n",
    "                       for blade in self.blades_list]\n",
    "\n",
    "        coeffs = [sm.S(0)] * len(blade_bases)\n",
    "        for k, v in sm.S(a).as_coefficients_dict().items():\n",
    "            for blade_inx in reversed(range(len(blade_bases))):\n",
    "                if blade_bases[blade_inx].issubset(k.free_symbols):\n",
    "                    coeffs[blade_inx] += k.subs(self.blades_list[blade_inx], 1) * v\n",
    "                    break\n",
    "    \n",
    "        return coeffs\n",
    "    \n",
    "    def from_coeffs(self, coeffs):\n",
    "        assert len(coeffs) == len(self.blades_list)\n",
    "        return sum(k * v for k, v in zip(self.blades_list, coeffs))\n",
    "\n",
    "    def dual(self, a):\n",
    "        return sum(k * v for k, v in zip(reversed(self.blades_list), self.coeffs(a)))\n",
    "\n",
    "    def reverse(self, a):\n",
    "        result = 0\n",
    "        for k, v in sm.S(a).as_coefficients_dict().items():\n",
    "            grade = len(k.free_symbols.intersection(self.blades[1]))\n",
    "            num_flips = len(list(itertools.combinations(range(grade), 2)))\n",
    "            if num_flips % 2 == 1:\n",
    "                result += -k * v\n",
    "            else:\n",
    "                result += k * v\n",
    "\n",
    "        return self.simp(result)\n",
    "\n",
    "    def regressive(self, a, b):\n",
    "        return self.dual(self.wedge(self.dual(a), self.dual(b)))\n",
    "\n",
    "    def join(self, a, b):\n",
    "        return self.regressive(a, b)\n",
    "    \n",
    "    # NOTE(hayk): Actually the commutator product\n",
    "    def commutator(self, a, b):\n",
    "        \"\"\"\n",
    "        Wedge (upward hat) operator, outer product, (exterior product)\n",
    "        For two vectors, this is the outer product\n",
    "        \"\"\"\n",
    "        # For two vectors, gives the bivector (plane)\n",
    "        return self.simp(((a * b) - (b * a)) / sm.S(2))\n",
    "\n",
    "    # aliases\n",
    "    join = regressive\n",
    "#     meet = wedge\n",
    "\n",
    "    def meet(self, a, b):\n",
    "        return self.dot(self.dual(a), b)\n",
    "    \n",
    "#     def meet(self, a, b):\n",
    "#         return self.wedge(a, b)\n",
    "    \n",
    "    # TODO(hayk): Inner/outer are grade selecting?\n",
    "\n",
    "    def sandwich(self, a, b):\n",
    "        return self.simp(a * b * self.reverse(a))\n",
    "\n",
    "    # -----------------------------------------------------------------------\n",
    "    # WIP\n",
    "    # -----------------------------------------------------------------------\n",
    "\n",
    "    def dot(self, a, b):\n",
    "        # TODO hayk assert a and b are vectors.\n",
    "        # For two vectors, this is the inner product\n",
    "        return self.simp(((a * b) + (b * a)) / sm.S(2))\n",
    "\n",
    "    # TODO replaced by sandwich\n",
    "    def reflect(self, a, r):\n",
    "        return self.simp(-r * a * r)\n",
    "\n",
    "    # TODO replaced by sandwich\n",
    "    # rot: ba * v * ab\n",
    "    def rotate(self, a, b, v):\n",
    "        return self.simp(a * b * v * b * a)\n",
    "\n",
    "\n",
    "class ProjectiveGeometry3D(GeometricAlgebra):\n",
    "\n",
    "    @classmethod\n",
    "    def create(cls):\n",
    "        return ProjectiveGeometry3D.generate(3, 0, 1)\n",
    "\n",
    "    # -----------------------------------------------------------------------\n",
    "    # Pretty sure are correct\n",
    "    # -----------------------------------------------------------------------\n",
    "\n",
    "    # A plane is defined using its homogenous equation ax + by + cz + d = 0 \n",
    "    def plane(self, a, b, c, d):\n",
    "        return self.blade(1, (d, a, b, c))\n",
    "    \n",
    "    # Vector is the same as a plane through the origin\n",
    "    def vec(self, x, y, z):\n",
    "        return self.plane(x, y, z, 0)\n",
    "\n",
    "    # Homogeneous point\n",
    "    def point(self, x, y, z):\n",
    "        return self.blade(3, (x, y, z, 1))\n",
    "\n",
    "    # -----------------------------------------------------------------------\n",
    "    # WIP\n",
    "    # -----------------------------------------------------------------------\n",
    "\n",
    "    def inverse(self, a):\n",
    "        return self.simp(self.reverse(a) / self.simp(self.reverse(a) * a))\n",
    "\n",
    "#     def dual(self, a):\n",
    "#         # NOTE this is not the pseudoscalar e0123 but e123..\n",
    "#         return self.simp(a * self.inverse(self.blades[3][-1]))\n",
    "\n",
    "#     def dual4(self, a):\n",
    "#         # NOTE needs inverse, but in 3d it's the same\n",
    "#         return self.simp(a * self.pseudoscalar)\n",
    "\n",
    "    def cross(self, a, b):\n",
    "        # See equation 4.5 (page 31):\n",
    "        #    http://www.jaapsuter.com/geometric-algebra.pdf\n",
    "        return self.dual(self.wedge(a, b))\n",
    "\n",
    "    def line_from_vec(self, vec):\n",
    "        e0, e1, e2, e3 = self.blades[1]\n",
    "        return self.simp(e1 * e2 * e3 * vec)\n",
    "\n",
    "    def vec_from_line(self, line):\n",
    "        e0, e1, e2, e3 = self.blades[1]\n",
    "        return self.simp(-e1 * e2 * e3 * line)\n",
    "\n",
    "    def rotate_axis_angle(self, axis, angle, v):\n",
    "        half_angle = angle / sm.S(2)\n",
    "        scalar = sm.cos(half_angle)\n",
    "        bivector = sm.sin(half_angle) * self.line_from_vec(axis)\n",
    "        return self.simp((scalar + bivector) * v * (scalar - bivector))\n",
    "    \n",
    "    # Axis must be a LINE here\n",
    "    def rotor(self, axis, angle):\n",
    "        half_angle = sm.S(angle) / 2\n",
    "        return sm.cos(half_angle) + sm.sin(half_angle) * axis\n"
   ]
  },
  {
   "cell_type": "code",
   "execution_count": null,
   "metadata": {},
   "outputs": [],
   "source": [
    "A = ProjectiveGeometry3D.create()\n",
    "e0, e1, e2, e3 = A.blades[1]\n",
    "e01, e02, e03, e12, e13, e23 = A.blades[2]\n",
    "e012, e013, e023, e123 = A.blades[3]\n",
    "e0123, = A.blades[4]"
   ]
  },
  {
   "cell_type": "code",
   "execution_count": null,
   "metadata": {},
   "outputs": [],
   "source": [
    "expr = A.plane(sm.Symbol('x') * 3, 0, 1, sm.Symbol('y')**2)\n",
    "expr"
   ]
  },
  {
   "cell_type": "code",
   "execution_count": null,
   "metadata": {},
   "outputs": [],
   "source": [
    "A.blades[3]"
   ]
  },
  {
   "cell_type": "code",
   "execution_count": null,
   "metadata": {},
   "outputs": [],
   "source": [
    "A.simp(e1 * e2 * e3 - e2 * e3 * e1)"
   ]
  },
  {
   "cell_type": "code",
   "execution_count": null,
   "metadata": {},
   "outputs": [],
   "source": [
    "B = GeometricAlgebra.generate(3, 0, 0, start_inx=1)\n",
    "B.blades"
   ]
  },
  {
   "cell_type": "code",
   "execution_count": null,
   "metadata": {},
   "outputs": [],
   "source": [
    "a = sm.Symbol('alpha_1') * e1 + sm.Symbol('alpha_2') * e2# + sm.Symbol('alpha_3') * e3\n",
    "b = sm.Symbol('beta_1') * e1 + sm.Symbol('beta_2') * e2# + sm.Symbol('beta_3') * e3\n",
    "c = sm.Symbol('gamma_1') * e1 + sm.Symbol('gamma_2') * e2# + sm.Symbol('gamma_3') * e3\n",
    "a, b, c"
   ]
  },
  {
   "cell_type": "code",
   "execution_count": null,
   "metadata": {},
   "outputs": [],
   "source": [
    "B.outer(e2, e3)"
   ]
  },
  {
   "cell_type": "code",
   "execution_count": null,
   "metadata": {},
   "outputs": [],
   "source": [
    "B.outer(e1, e2*e3)"
   ]
  },
  {
   "cell_type": "code",
   "execution_count": null,
   "metadata": {},
   "outputs": [],
   "source": [
    "B.simp(e1 * e2 * e3 + e3 * e1 * e2)"
   ]
  },
  {
   "cell_type": "code",
   "execution_count": null,
   "metadata": {},
   "outputs": [],
   "source": [
    "B.outer(B.outer(a, b), c)"
   ]
  },
  {
   "cell_type": "code",
   "execution_count": null,
   "metadata": {},
   "outputs": [],
   "source": [
    "A = GeometricAlgebra.generate(4, 0, 1)\n",
    "A.blades"
   ]
  },
  {
   "cell_type": "code",
   "execution_count": null,
   "metadata": {},
   "outputs": [],
   "source": [
    "A.outer(a, b)"
   ]
  },
  {
   "cell_type": "code",
   "execution_count": null,
   "metadata": {},
   "outputs": [],
   "source": [
    "coeffs = A.coeffs(expr)\n",
    "coeffs"
   ]
  },
  {
   "cell_type": "code",
   "execution_count": null,
   "metadata": {},
   "outputs": [],
   "source": []
  },
  {
   "cell_type": "code",
   "execution_count": null,
   "metadata": {},
   "outputs": [],
   "source": [
    "A.from_coeffs(coeffs)"
   ]
  },
  {
   "cell_type": "code",
   "execution_count": null,
   "metadata": {},
   "outputs": [],
   "source": [
    "sum(k * v for k, v in zip(A.blades_list, coeffs))"
   ]
  },
  {
   "cell_type": "code",
   "execution_count": null,
   "metadata": {},
   "outputs": [],
   "source": [
    "A.line_from_vec(A.vec(0, 0, 1))"
   ]
  },
  {
   "cell_type": "code",
   "execution_count": null,
   "metadata": {},
   "outputs": [],
   "source": [
    "a = A.vec(*sm.symbols('alpha1:4'))\n",
    "a"
   ]
  },
  {
   "cell_type": "code",
   "execution_count": null,
   "metadata": {},
   "outputs": [],
   "source": [
    "b = A.vec(*sm.symbols('beta1:4'))\n",
    "b"
   ]
  },
  {
   "cell_type": "code",
   "execution_count": null,
   "metadata": {},
   "outputs": [],
   "source": [
    "val = A.wedge(a, b)\n",
    "val"
   ]
  },
  {
   "cell_type": "code",
   "execution_count": null,
   "metadata": {},
   "outputs": [],
   "source": [
    "A.dual(val)"
   ]
  },
  {
   "cell_type": "code",
   "execution_count": null,
   "metadata": {},
   "outputs": [],
   "source": [
    "A.meet(A.plane(1, 0, 0, 0), A.plane(0, 0, 1, 0))"
   ]
  },
  {
   "cell_type": "code",
   "execution_count": null,
   "metadata": {},
   "outputs": [],
   "source": [
    "A.join(A.point(1, 0, 0), A.point(0, 0, 1))"
   ]
  },
  {
   "cell_type": "code",
   "execution_count": null,
   "metadata": {},
   "outputs": [],
   "source": [
    "P1 = A.point(*sm.symbols('a b c'))\n",
    "P2 = A.point(*sm.symbols('l m n'))\n",
    "P1, P2"
   ]
  },
  {
   "cell_type": "code",
   "execution_count": null,
   "metadata": {},
   "outputs": [],
   "source": [
    "A.wedge(P1, P2)"
   ]
  },
  {
   "cell_type": "code",
   "execution_count": null,
   "metadata": {},
   "outputs": [],
   "source": [
    "A.regressive(P1, P2)"
   ]
  },
  {
   "cell_type": "code",
   "execution_count": null,
   "metadata": {},
   "outputs": [],
   "source": [
    "A.dual4(1)"
   ]
  },
  {
   "cell_type": "code",
   "execution_count": null,
   "metadata": {},
   "outputs": [],
   "source": [
    "e0 * e0123"
   ]
  },
  {
   "cell_type": "code",
   "execution_count": null,
   "metadata": {},
   "outputs": [],
   "source": [
    "A.dual4(e0)"
   ]
  },
  {
   "cell_type": "code",
   "execution_count": null,
   "metadata": {},
   "outputs": [],
   "source": [
    "A.regressive(P1, P2)"
   ]
  },
  {
   "cell_type": "code",
   "execution_count": null,
   "metadata": {},
   "outputs": [],
   "source": [
    "foo = A.simp(val * A.inverse(e123))\n",
    "foo"
   ]
  },
  {
   "cell_type": "code",
   "execution_count": null,
   "metadata": {},
   "outputs": [],
   "source": [
    "rotor = A.rotor(A.line_from_vec(A.vec(0, 0, 1)), np.deg2rad(45))\n",
    "rotor"
   ]
  },
  {
   "cell_type": "code",
   "execution_count": null,
   "metadata": {},
   "outputs": [],
   "source": [
    "A.sandwich(rotor, A.vec(1, 0, 0))"
   ]
  },
  {
   "cell_type": "code",
   "execution_count": null,
   "metadata": {},
   "outputs": [],
   "source": [
    "A.dual(e1)"
   ]
  },
  {
   "cell_type": "code",
   "execution_count": null,
   "metadata": {},
   "outputs": [],
   "source": [
    "A.reverse(e012)"
   ]
  },
  {
   "cell_type": "code",
   "execution_count": null,
   "metadata": {},
   "outputs": [],
   "source": [
    "A.sandwich(e1, e2)"
   ]
  },
  {
   "cell_type": "code",
   "execution_count": null,
   "metadata": {},
   "outputs": [],
   "source": [
    "A.reflect(e1, e2)"
   ]
  },
  {
   "cell_type": "code",
   "execution_count": null,
   "metadata": {},
   "outputs": [],
   "source": [
    "A.blade(2, (2, 3, 4, 1, 5, 6))"
   ]
  },
  {
   "cell_type": "code",
   "execution_count": null,
   "metadata": {},
   "outputs": [],
   "source": [
    "A.plane(1, 0, 0, 1)"
   ]
  },
  {
   "cell_type": "code",
   "execution_count": null,
   "metadata": {},
   "outputs": [],
   "source": [
    "A.dual(A.plane(1, 0, 0, 1))"
   ]
  },
  {
   "cell_type": "code",
   "execution_count": null,
   "metadata": {},
   "outputs": [],
   "source": [
    "A.vec(1, 2, 3)"
   ]
  },
  {
   "cell_type": "code",
   "execution_count": null,
   "metadata": {},
   "outputs": [],
   "source": [
    "A.dual(A.vec(0, 1, 0))"
   ]
  },
  {
   "cell_type": "code",
   "execution_count": null,
   "metadata": {},
   "outputs": [],
   "source": [
    "A.dual(A.plane(1, 0, 1))"
   ]
  },
  {
   "cell_type": "code",
   "execution_count": null,
   "metadata": {},
   "outputs": [],
   "source": [
    "A.dual(A.vec(1, 0, 1))"
   ]
  },
  {
   "cell_type": "code",
   "execution_count": null,
   "metadata": {},
   "outputs": [],
   "source": [
    "A.dual(A.point(1, 0, 0))"
   ]
  },
  {
   "cell_type": "code",
   "execution_count": null,
   "metadata": {},
   "outputs": [],
   "source": [
    "A.dual(e0)"
   ]
  },
  {
   "cell_type": "code",
   "execution_count": null,
   "metadata": {},
   "outputs": [],
   "source": [
    "A.vec(1, 2, 3)"
   ]
  },
  {
   "cell_type": "code",
   "execution_count": null,
   "metadata": {},
   "outputs": [],
   "source": [
    "A.dot(e3, e12)"
   ]
  },
  {
   "cell_type": "code",
   "execution_count": null,
   "metadata": {},
   "outputs": [],
   "source": [
    "A.line_from_vec(A.vec(1, 0, 0))"
   ]
  },
  {
   "cell_type": "code",
   "execution_count": null,
   "metadata": {},
   "outputs": [],
   "source": [
    "A.vec_from_line(e2 * e3)"
   ]
  },
  {
   "cell_type": "code",
   "execution_count": null,
   "metadata": {},
   "outputs": [],
   "source": [
    "# lie groups = confusing\n",
    "# quaternion math = confusing\n",
    "# handling of infinity in projective geometry = confusing\n",
    "# cross products = confusing"
   ]
  },
  {
   "cell_type": "code",
   "execution_count": null,
   "metadata": {},
   "outputs": [],
   "source": [
    "A.reflect(A.vec(-0.5, 2, 0), A.vec(1, 0, 0))"
   ]
  },
  {
   "cell_type": "code",
   "execution_count": null,
   "metadata": {},
   "outputs": [],
   "source": [
    "A.rotate(e1, e2, A.vec(0, 1, 0))"
   ]
  },
  {
   "cell_type": "code",
   "execution_count": null,
   "metadata": {},
   "outputs": [],
   "source": [
    "A.plane_from_normal(e1)"
   ]
  },
  {
   "cell_type": "code",
   "execution_count": null,
   "metadata": {},
   "outputs": [],
   "source": [
    "A.normal_from_plane(e1 * e2)"
   ]
  },
  {
   "cell_type": "code",
   "execution_count": null,
   "metadata": {},
   "outputs": [],
   "source": [
    "# a * b = |a||b| * (cos(ang) + sin(ang) * B)\n",
    "# where B is a bivector of two orthogonal unit vectors in the plane of a and b\n",
    "# for unit a, b\n",
    "# a * b = cos(ang) + sin(ang) * B"
   ]
  },
  {
   "cell_type": "code",
   "execution_count": null,
   "metadata": {},
   "outputs": [],
   "source": [
    "A.rotate_axis_angle(A.vec(0, 0, 1), np.deg2rad(1), A.vec(1, 0, 0))"
   ]
  },
  {
   "cell_type": "code",
   "execution_count": null,
   "metadata": {},
   "outputs": [],
   "source": [
    "# A.rotate_axis_angle(\n",
    "#     A.vec(*sm.symbols('ax ay az')),\n",
    "#     sm.Symbol('theta'),\n",
    "#     A.vec(*sm.symbols('x y z'))\n",
    "# )"
   ]
  },
  {
   "cell_type": "code",
   "execution_count": null,
   "metadata": {},
   "outputs": [],
   "source": [
    "p1 = A.plane(0, 1, 0, 0)\n",
    "p2 = A.plane(0, 0, 1, 1)"
   ]
  },
  {
   "cell_type": "code",
   "execution_count": null,
   "metadata": {},
   "outputs": [],
   "source": [
    "A.wedge(p1, p2)"
   ]
  },
  {
   "cell_type": "code",
   "execution_count": null,
   "metadata": {},
   "outputs": [],
   "source": [
    "A.point(1, 20, 0)"
   ]
  },
  {
   "cell_type": "code",
   "execution_count": null,
   "metadata": {},
   "outputs": [],
   "source": [
    "A.rotate_axis_angle(A.vec(0, 0, 1), np.deg2rad(45), A.vec(1, 0, 0))"
   ]
  },
  {
   "cell_type": "code",
   "execution_count": null,
   "metadata": {},
   "outputs": [],
   "source": [
    "A.rotate_axis_angle(A.vec(0, 0, 1), np.deg2rad(45), A.point(1, 0, 0))"
   ]
  },
  {
   "cell_type": "code",
   "execution_count": null,
   "metadata": {},
   "outputs": [],
   "source": []
  }
 ],
 "metadata": {
  "kernelspec": {
   "display_name": "Python 2",
   "language": "python",
   "name": "python2"
  },
  "language_info": {
   "codemirror_mode": {
    "name": "ipython",
    "version": 2
   },
   "file_extension": ".py",
   "mimetype": "text/x-python",
   "name": "python",
   "nbconvert_exporter": "python",
   "pygments_lexer": "ipython2",
   "version": "2.7.12"
  }
 },
 "nbformat": 4,
 "nbformat_minor": 2
}
