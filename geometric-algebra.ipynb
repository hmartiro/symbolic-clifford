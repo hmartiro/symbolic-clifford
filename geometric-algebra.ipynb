{
 "cells": [
  {
   "cell_type": "code",
   "execution_count": null,
   "metadata": {},
   "outputs": [],
   "source": [
    "import numpy as np\n",
    "import sympy as sm\n",
    "from geoalg import ProjectiveGeometry3D\n",
    "\n",
    "np.random.seed(0)"
   ]
  },
  {
   "cell_type": "code",
   "execution_count": null,
   "metadata": {},
   "outputs": [],
   "source": [
    "A = ProjectiveGeometry3D.create()\n",
    "e0, e1, e2, e3 = A.blades[1]\n",
    "e01, e02, e03, e12, e13, e23 = A.blades[2]\n",
    "e012, e013, e023, e123 = A.blades[3]\n",
    "e0123, = A.blades[4]\n",
    "A.e0, A.e1, A.e2, A.e3 = e0, e1, e2, e3"
   ]
  },
  {
   "cell_type": "code",
   "execution_count": null,
   "metadata": {},
   "outputs": [],
   "source": [
    "# res = A.codegen_binary_op(lambda a, b: a * b)\n",
    "# print(res)"
   ]
  },
  {
   "cell_type": "code",
   "execution_count": null,
   "metadata": {},
   "outputs": [],
   "source": [
    "# res = A.codegen_binary_op(A.sandwich)\n",
    "# print(res)"
   ]
  },
  {
   "cell_type": "code",
   "execution_count": null,
   "metadata": {},
   "outputs": [],
   "source": [
    "def random_blade(grade, maxint=1):\n",
    "    return sum(np.random.randint(-maxint, maxint) * b for b in A.blades[grade])\n",
    "\n",
    "def random_multivec(maxint=1):\n",
    "    return sum(random_blade(i, maxint=maxint) for i in range(len(A.blades)))"
   ]
  },
  {
   "cell_type": "code",
   "execution_count": null,
   "metadata": {},
   "outputs": [],
   "source": [
    "def test(a, b, func1, func2):\n",
    "    c1 = func1(a, b)\n",
    "    c2 = func2(a, b)\n",
    "    if c1 != c2:\n",
    "        raise RuntimeError('Products not equivalent.\\na: {}\\nb: {}\\nc1: {}\\nc2: {}'.format(a, b, c1, c2))\n",
    "    assert c1 == c2"
   ]
  },
  {
   "cell_type": "markdown",
   "metadata": {},
   "source": [
    "# Teaching outline"
   ]
  },
  {
   "cell_type": "code",
   "execution_count": null,
   "metadata": {},
   "outputs": [],
   "source": [
    "e1, e2, e3 = sm.symbols('e1 e2 e3', commutative=False)"
   ]
  },
  {
   "cell_type": "code",
   "execution_count": null,
   "metadata": {},
   "outputs": [],
   "source": [
    "vec = e1 + 2 * e2 - 3 * e3\n",
    "vec"
   ]
  },
  {
   "cell_type": "code",
   "execution_count": null,
   "metadata": {},
   "outputs": [],
   "source": [
    "e1 * e2"
   ]
  },
  {
   "cell_type": "markdown",
   "metadata": {},
   "source": [
    "Define simpliciation rules:  \n",
    "\n",
    "a) The product of two bases is one (think dot product): \n",
    "a) $e_i e_i = 1$ (contraction)  \n",
    "b) $e_i e_j = -e_j e_i$  (anti-commutation)"
   ]
  },
  {
   "cell_type": "code",
   "execution_count": null,
   "metadata": {},
   "outputs": [],
   "source": [
    "# Substitutions for R3 that match the above rules\n",
    "subs = {\n",
    "    e1**2: 1,\n",
    "    e2**2: 1,\n",
    "    e3**2: 1,\n",
    "    e2*e1: -e1*e2,\n",
    "    e3*e1: -e1*e3,\n",
    "    e3*e2: -e2*e3\n",
    "}"
   ]
  },
  {
   "cell_type": "code",
   "execution_count": null,
   "metadata": {},
   "outputs": [],
   "source": [
    "def simp(a):\n",
    "    \"\"\" Apply simplifications until no changes occur. \"\"\"\n",
    "    while True:\n",
    "        b = sm.expand(a).subs(subs)\n",
    "        if b == a:\n",
    "            return b\n",
    "        a = b"
   ]
  },
  {
   "cell_type": "code",
   "execution_count": null,
   "metadata": {},
   "outputs": [],
   "source": [
    "simp(e1 * e1)"
   ]
  },
  {
   "cell_type": "code",
   "execution_count": null,
   "metadata": {},
   "outputs": [],
   "source": [
    "simp(e1 * e2)"
   ]
  },
  {
   "cell_type": "code",
   "execution_count": null,
   "metadata": {},
   "outputs": [],
   "source": [
    "simp(e2 * e1)"
   ]
  },
  {
   "cell_type": "code",
   "execution_count": null,
   "metadata": {},
   "outputs": [],
   "source": [
    "simp(e2 * e1 * e2)"
   ]
  },
  {
   "cell_type": "code",
   "execution_count": null,
   "metadata": {},
   "outputs": [],
   "source": [
    "simp((e1 + 2*e2 + 3*e3)**2)"
   ]
  },
  {
   "cell_type": "code",
   "execution_count": null,
   "metadata": {},
   "outputs": [],
   "source": [
    "simp((e1 + 2*e2) * (3 * e2))"
   ]
  },
  {
   "cell_type": "code",
   "execution_count": null,
   "metadata": {},
   "outputs": [],
   "source": [
    "# Scalars are dual to pseudoscalar\n",
    "# Planes are the same as vectors (vector is 0 fourth component, plane through origin)\n",
    "# Points are dual to planes\n",
    "# Lines are intermediate, dual to themselves\n",
    "# Points with zero e0 component are ideal points (vectors / direction). Dual to planes through the origin.\n",
    "# Lines through the origin have no e0*ei components, are dual to ideal lines\n",
    "# Complex numbers - square root of -1"
   ]
  },
  {
   "cell_type": "code",
   "execution_count": null,
   "metadata": {},
   "outputs": [],
   "source": [
    "# Rotations are about planes not vectors\n",
    "#  - think 2D case, 4D case. way more intuitive. no line out of page\n",
    "# Specifying lines as point + direction is annoying\n",
    "# Specifying planes as normal vector and offset separately is annoying\n",
    "# Quaternion math, derivation from reflection\n",
    "# Identical implementation of 2D and 3D, including pose transforms\n",
    "# Treatment of translations and rotations\n",
    "# Lie algebra derivation\n",
    "# Autodiff with pseudoscalar"
   ]
  },
  {
   "cell_type": "code",
   "execution_count": null,
   "metadata": {},
   "outputs": [],
   "source": [
    "# lie groups = confusing\n",
    "# quaternion math = confusing\n",
    "# handling of infinity in projective geometry = confusing\n",
    "# cross products = confusing\n",
    "\n",
    "# a * b = |a||b| * (cos(ang) + sin(ang) * B)\n",
    "# where B is a bivector of two orthogonal unit vectors in the plane of a and b\n",
    "# for unit a, b\n",
    "# a * b = cos(ang) + sin(ang) * B"
   ]
  },
  {
   "cell_type": "code",
   "execution_count": null,
   "metadata": {},
   "outputs": [],
   "source": [
    "# Start with geometric product idea\n",
    "# Show that it is a closed ring (closed group, addition and multiplication)\n",
    "# Associative but not commutative\n",
    "# Reason about what different grades mean\n",
    "# General product has multiple resulting grades\n",
    "# Call lowest one inner product and highest one outer product\n",
    "# rotors / screws\n",
    "# Notion of duality\n",
    "# Use in quantum mechanics"
   ]
  },
  {
   "cell_type": "code",
   "execution_count": null,
   "metadata": {},
   "outputs": [],
   "source": [
    "# A duality that is an involution (inverse to itself) is called polarity, and can be done with a * I**-1"
   ]
  },
  {
   "cell_type": "code",
   "execution_count": null,
   "metadata": {},
   "outputs": [],
   "source": [
    "# Euclidian R(2, 0, 0)\n",
    "# 0) scalar\n",
    "# 1) vector (oriented length)\n",
    "# 2) PSS\n",
    "\n",
    "# Euclidian R(3, 0, 0)\n",
    "# 0) scalar\n",
    "# 1) vector (oriented length)\n",
    "# 2) area\n",
    "# 3) PSS\n",
    "\n",
    "# Dual Euclidian R*(2, 0, 0)\n",
    "# 0) scalar\n",
    "# 1) vector (oriented length)\n",
    "# 2) PSS\n",
    "\n",
    "# Dual Euclidian R*(3, 0, 0)\n",
    "# 0) scalar\n",
    "# 1) oriented area\n",
    "# 2) oriented length (vector)\n",
    "# 3) PSS\n",
    "\n",
    "# Homogenous Euclidian R(2, 0, 1)\n",
    "# 0) scalar\n",
    "# 1) point\n",
    "# 2) line\n",
    "# 3) PSS\n",
    "\n",
    "# Homogenous Euclidian R(3, 0, 1)\n",
    "# 0) scalar\n",
    "# 1) point\n",
    "# 2) line\n",
    "# 3) plane\n",
    "# 4) PSS\n",
    "\n",
    "# Projective Euclidian R*(2, 0, 1)\n",
    "# 0) scalar\n",
    "# 1) line\n",
    "# 2) point\n",
    "# 3) PSS\n",
    "\n",
    "# Projective Euclidian R*(3, 0, 1)\n",
    "# 0) scalar\n",
    "# 1) plane\n",
    "# 2) line\n",
    "# 3) point\n",
    "# 4) PSS"
   ]
  },
  {
   "cell_type": "code",
   "execution_count": null,
   "metadata": {},
   "outputs": [],
   "source": [
    "l = A.outer(e1 + 3*e3 + e0, 3*e3 + e0)\n",
    "l"
   ]
  },
  {
   "cell_type": "code",
   "execution_count": null,
   "metadata": {},
   "outputs": [],
   "source": [
    "A.dual(l)"
   ]
  },
  {
   "cell_type": "code",
   "execution_count": null,
   "metadata": {},
   "outputs": [],
   "source": [
    "# Create two points\n",
    "P1 = A.point(1, 0, 3)\n",
    "P2 = A.point(0, 0, 3)\n",
    "P1"
   ]
  },
  {
   "cell_type": "code",
   "execution_count": null,
   "metadata": {},
   "outputs": [],
   "source": [
    "# Line between two points\n",
    "l = A.join(P1, P2)\n",
    "l"
   ]
  },
  {
   "cell_type": "code",
   "execution_count": null,
   "metadata": {},
   "outputs": [],
   "source": [
    "# Create plane\n",
    "p = A.plane(1, 1, 0, 1)\n",
    "p"
   ]
  },
  {
   "cell_type": "code",
   "execution_count": null,
   "metadata": {},
   "outputs": [],
   "source": [
    "p / A.product(p, p)"
   ]
  },
  {
   "cell_type": "code",
   "execution_count": null,
   "metadata": {},
   "outputs": [],
   "source": [
    "# Line orthogonal to plane p through point P\n",
    "A.inner(p, P1)"
   ]
  },
  {
   "cell_type": "code",
   "execution_count": null,
   "metadata": {},
   "outputs": [],
   "source": [
    "# Plane orthogonal to plane p through line l\n",
    "A.inner(p, l)"
   ]
  },
  {
   "cell_type": "code",
   "execution_count": null,
   "metadata": {},
   "outputs": [],
   "source": [
    "A.point(0, 0, 0)"
   ]
  },
  {
   "cell_type": "code",
   "execution_count": null,
   "metadata": {},
   "outputs": [],
   "source": [
    "A.inner(A.plane(1, 2, 3, 0), A.point(0, 0, 0))"
   ]
  },
  {
   "cell_type": "code",
   "execution_count": null,
   "metadata": {},
   "outputs": [],
   "source": [
    "# Create a line\n",
    "l = A.join(A.point(0, 0, 0), A.point(0, 0, 1))\n",
    "l"
   ]
  },
  {
   "cell_type": "code",
   "execution_count": null,
   "metadata": {},
   "outputs": [],
   "source": [
    "# Create rotor along the line\n",
    "rotor = A._rotator(l, np.deg2rad(45))\n",
    "rotor"
   ]
  },
  {
   "cell_type": "code",
   "execution_count": null,
   "metadata": {},
   "outputs": [],
   "source": [
    "# Rotate point\n",
    "P1"
   ]
  },
  {
   "cell_type": "code",
   "execution_count": null,
   "metadata": {},
   "outputs": [],
   "source": [
    "A.sandwich(rotor, p)"
   ]
  },
  {
   "cell_type": "code",
   "execution_count": null,
   "metadata": {},
   "outputs": [],
   "source": [
    "translator = A.translator(2.5, 0, 0)\n",
    "translator"
   ]
  },
  {
   "cell_type": "code",
   "execution_count": null,
   "metadata": {},
   "outputs": [],
   "source": [
    "P = A.point(*sm.symbols('P_x P_y P_z'))\n",
    "P"
   ]
  },
  {
   "cell_type": "code",
   "execution_count": null,
   "metadata": {},
   "outputs": [],
   "source": [
    "t = A.translator(*sm.symbols('t_x t_y t_z'))\n",
    "t"
   ]
  },
  {
   "cell_type": "code",
   "execution_count": null,
   "metadata": {},
   "outputs": [],
   "source": [
    "A.sandwich(t, P)"
   ]
  },
  {
   "cell_type": "code",
   "execution_count": null,
   "metadata": {},
   "outputs": [],
   "source": [
    "def rotator(self, x, y, z):\n",
    "    return self.simp(self._rotator(self.line(0, 0, 0, x, y, z), 1))\n",
    "rotator(A, 0, 0, np.deg2rad(30.)).evalf()"
   ]
  },
  {
   "cell_type": "code",
   "execution_count": null,
   "metadata": {},
   "outputs": [],
   "source": [
    "axis = sm.symbols('a_x a_y a_z')\n",
    "angle = sm.Symbol('theta')\n",
    "rotor = A.simp(A._rotator(A.line(0, 0, 0, axis[0], axis[1], axis[2]), angle))\n",
    "rotor"
   ]
  },
  {
   "cell_type": "code",
   "execution_count": null,
   "metadata": {},
   "outputs": [],
   "source": [
    "line = A.line(0, 0, 0, axis[0], axis[1], axis[2])"
   ]
  },
  {
   "cell_type": "code",
   "execution_count": null,
   "metadata": {},
   "outputs": [],
   "source": [
    "A.normalized(line)"
   ]
  },
  {
   "cell_type": "code",
   "execution_count": null,
   "metadata": {},
   "outputs": [],
   "source": [
    "R = A.axis_angle(axis, angle)\n",
    "R"
   ]
  },
  {
   "cell_type": "code",
   "execution_count": null,
   "metadata": {},
   "outputs": [],
   "source": [
    "Rt = A.product(R, t)\n",
    "Rt"
   ]
  },
  {
   "cell_type": "code",
   "execution_count": null,
   "metadata": {},
   "outputs": [],
   "source": [
    "A.sandwich(Rt, P)"
   ]
  },
  {
   "cell_type": "code",
   "execution_count": null,
   "metadata": {},
   "outputs": [],
   "source": [
    "rot = A.axis_angle([0, -1, 0], np.deg2rad(45))\n",
    "rot"
   ]
  },
  {
   "cell_type": "code",
   "execution_count": null,
   "metadata": {},
   "outputs": [],
   "source": [
    "A.sandwich(rot, A.point(1, 0, 0))"
   ]
  },
  {
   "cell_type": "code",
   "execution_count": null,
   "metadata": {},
   "outputs": [],
   "source": [
    "p = A.plane(1, 2, 3, 1)\n",
    "p"
   ]
  },
  {
   "cell_type": "code",
   "execution_count": null,
   "metadata": {},
   "outputs": [],
   "source": [
    "p2 = A.plane(-1, 2, 1, 1)\n",
    "p2"
   ]
  },
  {
   "cell_type": "code",
   "execution_count": null,
   "metadata": {},
   "outputs": [],
   "source": [
    "line = A.outer(p, p2)\n",
    "line"
   ]
  },
  {
   "cell_type": "code",
   "execution_count": null,
   "metadata": {},
   "outputs": [],
   "source": [
    "plane = A.point(0, 0, 1)\n",
    "plane"
   ]
  },
  {
   "cell_type": "code",
   "execution_count": null,
   "metadata": {},
   "outputs": [],
   "source": [
    "A.simp(A.inner(plane, line) / -4)"
   ]
  },
  {
   "cell_type": "code",
   "execution_count": null,
   "metadata": {},
   "outputs": [],
   "source": []
  },
  {
   "cell_type": "code",
   "execution_count": null,
   "metadata": {},
   "outputs": [],
   "source": [
    "u = A.normalized(e1 + 2 * e2 + e3)\n",
    "v = A.normalized(4 * e1 + e2)\n",
    "u, v"
   ]
  },
  {
   "cell_type": "code",
   "execution_count": null,
   "metadata": {},
   "outputs": [],
   "source": [
    "rotor = A.product(u, v)\n",
    "rotor"
   ]
  },
  {
   "cell_type": "code",
   "execution_count": null,
   "metadata": {},
   "outputs": [],
   "source": [
    "direction = 5 * e1\n",
    "direction"
   ]
  },
  {
   "cell_type": "code",
   "execution_count": null,
   "metadata": {},
   "outputs": [],
   "source": [
    "A.sandwich(rotor, 10*e1)"
   ]
  },
  {
   "cell_type": "code",
   "execution_count": null,
   "metadata": {},
   "outputs": [],
   "source": [
    "A.simp(-e1 * (sm.Symbol('x') * e1 + sm.Symbol('y') * e2 + sm.Symbol('z') * e3))"
   ]
  },
  {
   "cell_type": "code",
   "execution_count": null,
   "metadata": {},
   "outputs": [],
   "source": [
    "A.sandwich(e1, direction)"
   ]
  },
  {
   "cell_type": "code",
   "execution_count": null,
   "metadata": {},
   "outputs": [],
   "source": [
    "A.sandwich(e1 * e2 * e3, direction)"
   ]
  },
  {
   "cell_type": "code",
   "execution_count": null,
   "metadata": {},
   "outputs": [],
   "source": [
    "A.dual(5*e3)"
   ]
  },
  {
   "cell_type": "code",
   "execution_count": null,
   "metadata": {},
   "outputs": [],
   "source": [
    "A.sandwich(e3, 5 * e3 + e0)"
   ]
  },
  {
   "cell_type": "code",
   "execution_count": null,
   "metadata": {},
   "outputs": [],
   "source": [
    "A.sandwich(e3, 5)"
   ]
  },
  {
   "cell_type": "code",
   "execution_count": null,
   "metadata": {},
   "outputs": [],
   "source": [
    "A.sandwich(e3, 5 * e012)"
   ]
  },
  {
   "cell_type": "code",
   "execution_count": null,
   "metadata": {},
   "outputs": [],
   "source": [
    "ops = {\n",
    "    'sum': 2,\n",
    "    'product': 2,\n",
    "    'inner': 2,\n",
    "    'outer': 2,\n",
    "    'dual': 1,\n",
    "    'reverse': 1,\n",
    "    'polarity': 1,\n",
    "    'regressive': 2,\n",
    "    'commutator': 2,\n",
    "    'sandwich': 2\n",
    "}"
   ]
  },
  {
   "cell_type": "code",
   "execution_count": null,
   "metadata": {
    "scrolled": false
   },
   "outputs": [],
   "source": [
    "# for name, num_args in sorted(ops.items(), key=lambda v: v[0]):\n",
    "#     print(A.codegen_op(getattr(A, name), num_args, name))\n",
    "#     print('')"
   ]
  },
  {
   "cell_type": "code",
   "execution_count": null,
   "metadata": {},
   "outputs": [],
   "source": []
  },
  {
   "cell_type": "code",
   "execution_count": null,
   "metadata": {},
   "outputs": [],
   "source": [
    "e3 * (5 * e3) * A.reverse(e3)"
   ]
  },
  {
   "cell_type": "code",
   "execution_count": null,
   "metadata": {},
   "outputs": [],
   "source": [
    "A.reverse(e3)"
   ]
  },
  {
   "cell_type": "code",
   "execution_count": null,
   "metadata": {},
   "outputs": [],
   "source": [
    "-A.sandwich(e3, e2)"
   ]
  },
  {
   "cell_type": "code",
   "execution_count": null,
   "metadata": {},
   "outputs": [],
   "source": [
    "A.simp(e3 * e2 * A.reverse(e3))"
   ]
  },
  {
   "cell_type": "code",
   "execution_count": null,
   "metadata": {},
   "outputs": [],
   "source": []
  }
 ],
 "metadata": {
  "kernelspec": {
   "display_name": "Python 2",
   "language": "python",
   "name": "python2"
  },
  "language_info": {
   "codemirror_mode": {
    "name": "ipython",
    "version": 2
   },
   "file_extension": ".py",
   "mimetype": "text/x-python",
   "name": "python",
   "nbconvert_exporter": "python",
   "pygments_lexer": "ipython2",
   "version": "2.7.16"
  }
 },
 "nbformat": 4,
 "nbformat_minor": 2
}
